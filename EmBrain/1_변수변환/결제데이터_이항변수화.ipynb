{
 "cells": [
  {
   "cell_type": "code",
   "execution_count": 2,
   "metadata": {},
   "outputs": [],
   "source": [
    "import pandas as pd\n",
    "import seaborn as sns\n",
    "sns.set() \n",
    "%matplotlib inline \n",
    "pd.set_option('max_columns',999)"
   ]
  },
  {
   "cell_type": "code",
   "execution_count": null,
   "metadata": {},
   "outputs": [],
   "source": [
    "# PAYMENT\n",
    "pay_data = pd.read_csv(\"data//PANEL//PAYMENT data.csv\", engine = \"python\")\n",
    "pay_brand = pd.read_csv(\"data//PANEL//PAYMENT Summary_Brand.csv\", engine = \"python\")\n",
    "pay_cat = pd.read_csv(\"data//PANEL//PAYMENT Summary_Brand.csv\", engine = \"python\")\n",
    "pay_total = pd.read_csv(\"data//PANEL//PAYMENT Summary_Total.csv\", engine = \"python\")"
   ]
  },
  {
   "cell_type": "code",
   "execution_count": 6,
   "metadata": {},
   "outputs": [],
   "source": [
    "# PPDB\n",
    "data_panel = pd.read_csv(\"data//PANEL//PPDB data.csv\", engine = \"python\")"
   ]
  },
  {
   "cell_type": "code",
   "execution_count": null,
   "metadata": {},
   "outputs": [],
   "source": [
    "# APP\n",
    "app_time = pd.read_csv(\"data//PANEL//APP Refine_AppTime.csv\", engine = \"python\")\n",
    "app_cat_g = pd.read_csv(\"data//PANEL//APP Refine_CategoryTime_G.csv\", engine = \"python\")\n",
    "app_cat_mme = pd.read_csv(\"data//PANEL//APP Refine_CategoryTime_MME.csv\", engine = \"python\")\n",
    "app_sum_time = pd.read_csv(\"data//PANEL//APP Refine_Usage_Sum_Time.csv\", engine = \"python\")"
   ]
  },
  {
   "cell_type": "markdown",
   "metadata": {},
   "source": [
    "---\n",
    "\n",
    "# 이항변수화"
   ]
  },
  {
   "cell_type": "markdown",
   "metadata": {},
   "source": [
    "\n",
    "## PAYMENT 데이터 이항변수화"
   ]
  },
  {
   "cell_type": "code",
   "execution_count": 20,
   "metadata": {},
   "outputs": [],
   "source": [
    "# 이항변수화 하고자 하는 데이터프레임 넣으면 해결해주는 함수!\n",
    "\n",
    "def Func2(df, col):\n",
    "    valist = df[col].unique()\n",
    "    t = pd.DataFrame(df.groupby(\"PANEL_ID\")[col].apply(list)).reset_index()\n",
    "    for i in range(len(valist)):\n",
    "        t[col+\"_\"+valist[i]] = [1 if valist[i] in x else 0 for x in t[col]]\n",
    "    return t.drop(col, axis = 1)"
   ]
  },
  {
   "cell_type": "code",
   "execution_count": 21,
   "metadata": {
    "scrolled": true
   },
   "outputs": [],
   "source": [
    "# PAY_APPROVAL_TYPE\n",
    "# L, F\n",
    "\n",
    "pay_data_1 = Func2(pay_data, \"PAY_APPROVAL_TYPE\")"
   ]
  },
  {
   "cell_type": "code",
   "execution_count": 22,
   "metadata": {
    "scrolled": true
   },
   "outputs": [],
   "source": [
    "# PAY_CATEGORY_CODE\n",
    "# int형 변수 -> string으로 \n",
    "\n",
    "pay_data[\"PAY_CATEGORY_CODE_\"] = [str(x) for x in pay_data[\"PAY_CATEGORY_CODE\"]]\n",
    "pay_data_2 = Func2(pay_data, \"PAY_CATEGORY_CODE_\")"
   ]
  },
  {
   "cell_type": "code",
   "execution_count": 23,
   "metadata": {},
   "outputs": [],
   "source": [
    "# PAY_SMS_REGISTRATION_MONTH\n",
    "\n",
    "pay_data_3 = Func2(pay_data, \"PAY_SMS_REGISTRATION_MONTH\")"
   ]
  },
  {
   "cell_type": "code",
   "execution_count": 24,
   "metadata": {},
   "outputs": [],
   "source": [
    "# PAY_SMS_REGISTRATION_DATE\n",
    "\n",
    "pay_data_4 = Func2(pay_data, \"PAY_SMS_REGISTRATION_DATE\")"
   ]
  },
  {
   "cell_type": "code",
   "execution_count": 25,
   "metadata": {},
   "outputs": [],
   "source": [
    "# PAY_SMS_REGISTRATION_TIME\n",
    "# int형 변수 -> string으로 \n",
    "\n",
    "pay_data[\"PAY_SMS_REGISTRATION_TIME_\"] = [str(x) for x in pay_data[\"PAY_SMS_REGISTRATION_TIME\"]]\n",
    "pay_data_5 = Func2(pay_data, \"PAY_SMS_REGISTRATION_TIME_\")"
   ]
  },
  {
   "cell_type": "code",
   "execution_count": 26,
   "metadata": {},
   "outputs": [],
   "source": [
    "# PAY_CARD_PAYMENT_TYPE\n",
    "\n",
    "pay_data_6 = Func2(pay_data, \"PAY_CARD_PAYMENT_TYPE\")"
   ]
  },
  {
   "cell_type": "code",
   "execution_count": 27,
   "metadata": {},
   "outputs": [],
   "source": [
    "# PAY_APPROVAL_METHOD\n",
    "# int형 변수 -> string으로 \n",
    "\n",
    "pay_data[\"PAY_APPROVAL_METHOD_\"] = [str(x) for x in pay_data[\"PAY_APPROVAL_METHOD\"]]\n",
    "pay_data_7 = Func2(pay_data, \"PAY_APPROVAL_METHOD_\")"
   ]
  },
  {
   "cell_type": "code",
   "execution_count": 28,
   "metadata": {},
   "outputs": [
    {
     "name": "stdout",
     "output_type": "stream",
     "text": [
      "      PAY_PRICE\n",
      "0.25    25609.5\n",
      "0.50    61144.0\n",
      "0.75   139590.5\n"
     ]
    }
   ],
   "source": [
    "# PAY_PRICE\n",
    "# 각 사람별 평균 구매액 구하기\n",
    "pay_data_8 = pd.DataFrame(pay_data.groupby(\"PANEL_ID\").mean()[\"PAY_PRICE\"].apply(int)).reset_index()\n",
    "\n",
    "# 사분위수 구하기\n",
    "print(pay_data_8.quantile([0.25, 0.5 , 0.75] ))\n",
    "\n",
    "# 가격 범위 나누기\n",
    "pay_data_8[\"PAY_PRICE_0\"] = [1 if x< 25609.5 else 0 for x in pay_data_8[\"PAY_PRICE\"]]\n",
    "pay_data_8[\"PAY_PRICE_1\"] = [1 if 25609.5<=x< 61144 else 0 for x in pay_data_8[\"PAY_PRICE\"]]\n",
    "pay_data_8[\"PAY_PRICE_2\"] = [1 if 61144<=x< 139590.5 else 0 for x in pay_data_8[\"PAY_PRICE\"]]\n",
    "pay_data_8[\"PAY_PRICE_3\"] = [1 if 139590.5<=x else 0 for x in pay_data_8[\"PAY_PRICE\"]]\n",
    "pay_data_8 = pay_data_8.drop(\"PAY_PRICE\", axis = 1)\n",
    "pay_data_8 = pay_data_8.applymap(lambda x: str(x))"
   ]
  },
  {
   "cell_type": "code",
   "execution_count": 29,
   "metadata": {},
   "outputs": [
    {
     "name": "stdout",
     "output_type": "stream",
     "text": [
      "(11187, 3) (11187, 64) (11187, 2) (11187, 31) (11187, 25) (11187, 6) (11187, 21) (11187, 5)\n"
     ]
    },
    {
     "data": {
      "text/plain": [
       "(11187, 150)"
      ]
     },
     "execution_count": 29,
     "metadata": {},
     "output_type": "execute_result"
    }
   ],
   "source": [
    "# 전체 데이터 합치기\n",
    "\n",
    "# 각 데이터 row 수 동일한지 확인\n",
    "print(pay_data_1.shape, pay_data_2.shape, pay_data_3.shape, pay_data_4.shape, pay_data_5.shape, pay_data_6.shape, pay_data_7.shape, pay_data_8.shape)\n",
    "\n",
    "# row수 : panel수\n",
    "pay_all  = pd.merge(pay_data_1, pay_data_2, on = \"PANEL_ID\")\n",
    "pay_all = pd.merge(pay_all, pay_data_3, on = \"PANEL_ID\")\n",
    "pay_all = pd.merge(pay_all, pay_data_4, on = \"PANEL_ID\")\n",
    "pay_all = pd.merge(pay_all, pay_data_5, on = \"PANEL_ID\")\n",
    "pay_all = pd.merge(pay_all, pay_data_6, on = \"PANEL_ID\")\n",
    "pay_all = pd.merge(pay_all, pay_data_7, on = \"PANEL_ID\")\n",
    "pay_all = pd.merge(pay_all, pay_data_8, on = \"PANEL_ID\")\n",
    "\n",
    "# 합쳐진 데이터 shape 확인\n",
    "pay_all.shape"
   ]
  },
  {
   "cell_type": "code",
   "execution_count": 30,
   "metadata": {},
   "outputs": [],
   "source": [
    "# pay_dummies.csv\n",
    "\n",
    "pay_all.to_csv(\"data/0109_payment_dummies.csv\")"
   ]
  }
 ],
 "metadata": {
  "kernelspec": {
   "display_name": "Python 3",
   "language": "python",
   "name": "python3"
  },
  "language_info": {
   "codemirror_mode": {
    "name": "ipython",
    "version": 3
   },
   "file_extension": ".py",
   "mimetype": "text/x-python",
   "name": "python",
   "nbconvert_exporter": "python",
   "pygments_lexer": "ipython3",
   "version": "3.7.1"
  }
 },
 "nbformat": 4,
 "nbformat_minor": 2
}
