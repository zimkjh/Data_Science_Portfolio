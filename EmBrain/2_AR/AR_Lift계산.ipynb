{
 "cells": [
  {
   "cell_type": "code",
   "execution_count": 2,
   "metadata": {},
   "outputs": [],
   "source": [
    "import pandas as pd\n",
    "import seaborn as sns\n",
    "sns.set() \n",
    "%matplotlib inline \n",
    "pd.set_option('max_columns',999)"
   ]
  },
  {
   "cell_type": "code",
   "execution_count": null,
   "metadata": {},
   "outputs": [],
   "source": [
    "# PAYMENT\n",
    "pay_data = pd.read_csv(\"data//PANEL//PAYMENT data.csv\", engine = \"python\")\n",
    "pay_brand = pd.read_csv(\"data//PANEL//PAYMENT Summary_Brand.csv\", engine = \"python\")\n",
    "pay_cat = pd.read_csv(\"data//PANEL//PAYMENT Summary_Brand.csv\", engine = \"python\")\n",
    "pay_total = pd.read_csv(\"data//PANEL//PAYMENT Summary_Total.csv\", engine = \"python\")"
   ]
  },
  {
   "cell_type": "code",
   "execution_count": null,
   "metadata": {},
   "outputs": [],
   "source": [
    "# PPDB\n",
    "ppdb_data = pd.read_csv(\"data//PANEL//PPDB data.csv\", engine = \"python\")"
   ]
  },
  {
   "cell_type": "code",
   "execution_count": null,
   "metadata": {},
   "outputs": [],
   "source": [
    "# APP\n",
    "app_time = pd.read_csv(\"data//PANEL//APP Refine_AppTime.csv\", engine = \"python\")\n",
    "app_cat_g = pd.read_csv(\"data//PANEL//APP Refine_CategoryTime_G.csv\", engine = \"python\")\n",
    "app_cat_mme = pd.read_csv(\"data//PANEL//APP Refine_CategoryTime_MME.csv\", engine = \"python\")\n",
    "app_sum_time = pd.read_csv(\"data//PANEL//APP Refine_Usage_Sum_Time.csv\", engine = \"python\")"
   ]
  },
  {
   "cell_type": "markdown",
   "metadata": {},
   "source": [
    "# AR"
   ]
  },
  {
   "cell_type": "markdown",
   "metadata": {},
   "source": [
    "### 카톡 설치여부 reverse (해볼 것)\n",
    "\n",
    "누구나 다 1인 사건(ex 카톡 설치여부)은 정보량이 적은 사건인데, 이것을 카톡 미설치여부로 바꾸면 1인사람이 거의 없어서 정보량이 많아짐\n",
    "\n",
    "이렇게하면 두 사건의 동시발생확률이 0.5 이상이 되는것을 줄일 수 있음 그 lift값의 2배라는 기준때문에 사라지는 것을 줄일 수 있음.\n",
    "\n",
    "--> 전체 샘플의 반 이상이 1인 사건은 반 이하가 1인 사건으로 바꾸기\n"
   ]
  },
  {
   "cell_type": "code",
   "execution_count": 4,
   "metadata": {},
   "outputs": [],
   "source": [
    "# 세 데이터 합치기\n",
    "\n",
    "pay_dummies = pd.read_csv(\"data/0109_payment_dummies.csv\").drop(\"Unnamed: 0\", axis =1)\n",
    "ps_dummies = pd.read_csv(\"data/0109_ps_dummies.csv\").drop(\"Unnamed: 0\", axis =1)\n",
    "app_dummies = pd.read_csv(\"data/0109_app_dummies.csv\").drop(\"Unnamed: 0\", axis =1)\n",
    "\n",
    "al = pd.merge(pay_dummies, ps_dummies, on = \"PANEL_ID\")\n",
    "al = pd.merge(al, app_dummies, on = \"PANEL_ID\")\n",
    "\n",
    "# panel_id 제거\n",
    "del al[\"PANEL_ID\"]"
   ]
  },
  {
   "cell_type": "code",
   "execution_count": 5,
   "metadata": {},
   "outputs": [
    {
     "data": {
      "text/plain": [
       "(10591, 779)"
      ]
     },
     "execution_count": 5,
     "metadata": {},
     "output_type": "execute_result"
    }
   ],
   "source": [
    "# al 길이는 10591\n",
    "al.shape"
   ]
  },
  {
   "cell_type": "code",
   "execution_count": 6,
   "metadata": {
    "scrolled": true
   },
   "outputs": [],
   "source": [
    "al_2 = pd.DataFrame(al.sum()).reset_index()\n",
    "al_2.columns = [\"label\", \"sum\"]"
   ]
  },
  {
   "cell_type": "code",
   "execution_count": 7,
   "metadata": {
    "scrolled": true
   },
   "outputs": [
    {
     "data": {
      "text/html": [
       "<div>\n",
       "<style scoped>\n",
       "    .dataframe tbody tr th:only-of-type {\n",
       "        vertical-align: middle;\n",
       "    }\n",
       "\n",
       "    .dataframe tbody tr th {\n",
       "        vertical-align: top;\n",
       "    }\n",
       "\n",
       "    .dataframe thead th {\n",
       "        text-align: right;\n",
       "    }\n",
       "</style>\n",
       "<table border=\"1\" class=\"dataframe\">\n",
       "  <thead>\n",
       "    <tr style=\"text-align: right;\">\n",
       "      <th></th>\n",
       "      <th>label</th>\n",
       "      <th>sum</th>\n",
       "    </tr>\n",
       "  </thead>\n",
       "  <tbody>\n",
       "    <tr>\n",
       "      <th>0</th>\n",
       "      <td>PAY_APPROVAL_TYPE_L</td>\n",
       "      <td>10586</td>\n",
       "    </tr>\n",
       "    <tr>\n",
       "      <th>1</th>\n",
       "      <td>PAY_APPROVAL_TYPE_F</td>\n",
       "      <td>1009</td>\n",
       "    </tr>\n",
       "    <tr>\n",
       "      <th>2</th>\n",
       "      <td>PAY_CATEGORY_CODE__1101</td>\n",
       "      <td>3981</td>\n",
       "    </tr>\n",
       "  </tbody>\n",
       "</table>\n",
       "</div>"
      ],
      "text/plain": [
       "                     label    sum\n",
       "0      PAY_APPROVAL_TYPE_L  10586\n",
       "1      PAY_APPROVAL_TYPE_F   1009\n",
       "2  PAY_CATEGORY_CODE__1101   3981"
      ]
     },
     "execution_count": 7,
     "metadata": {},
     "output_type": "execute_result"
    }
   ],
   "source": [
    "al_2.head(3)"
   ]
  },
  {
   "cell_type": "code",
   "execution_count": 9,
   "metadata": {},
   "outputs": [
    {
     "data": {
      "text/html": [
       "<div>\n",
       "<style scoped>\n",
       "    .dataframe tbody tr th:only-of-type {\n",
       "        vertical-align: middle;\n",
       "    }\n",
       "\n",
       "    .dataframe tbody tr th {\n",
       "        vertical-align: top;\n",
       "    }\n",
       "\n",
       "    .dataframe thead th {\n",
       "        text-align: right;\n",
       "    }\n",
       "</style>\n",
       "<table border=\"1\" class=\"dataframe\">\n",
       "  <thead>\n",
       "    <tr style=\"text-align: right;\">\n",
       "      <th></th>\n",
       "      <th>label</th>\n",
       "      <th>sum</th>\n",
       "    </tr>\n",
       "  </thead>\n",
       "  <tbody>\n",
       "    <tr>\n",
       "      <th>65</th>\n",
       "      <td>PAY_SMS_REGISTRATION_MONTH_11</td>\n",
       "      <td>10591</td>\n",
       "    </tr>\n",
       "    <tr>\n",
       "      <th>0</th>\n",
       "      <td>PAY_APPROVAL_TYPE_L</td>\n",
       "      <td>10586</td>\n",
       "    </tr>\n",
       "    <tr>\n",
       "      <th>3</th>\n",
       "      <td>PAY_CATEGORY_CODE__1799</td>\n",
       "      <td>10014</td>\n",
       "    </tr>\n",
       "    <tr>\n",
       "      <th>101</th>\n",
       "      <td>PAY_SMS_REGISTRATION_TIME__18</td>\n",
       "      <td>8639</td>\n",
       "    </tr>\n",
       "    <tr>\n",
       "      <th>102</th>\n",
       "      <td>PAY_SMS_REGISTRATION_TIME__12</td>\n",
       "      <td>8378</td>\n",
       "    </tr>\n",
       "    <tr>\n",
       "      <th>100</th>\n",
       "      <td>PAY_SMS_REGISTRATION_TIME__17</td>\n",
       "      <td>8354</td>\n",
       "    </tr>\n",
       "    <tr>\n",
       "      <th>105</th>\n",
       "      <td>PAY_SMS_REGISTRATION_TIME__13</td>\n",
       "      <td>8331</td>\n",
       "    </tr>\n",
       "    <tr>\n",
       "      <th>109</th>\n",
       "      <td>PAY_SMS_REGISTRATION_TIME__19</td>\n",
       "      <td>8269</td>\n",
       "    </tr>\n",
       "    <tr>\n",
       "      <th>106</th>\n",
       "      <td>PAY_SMS_REGISTRATION_TIME__14</td>\n",
       "      <td>8266</td>\n",
       "    </tr>\n",
       "    <tr>\n",
       "      <th>99</th>\n",
       "      <td>PAY_SMS_REGISTRATION_TIME__15</td>\n",
       "      <td>8247</td>\n",
       "    </tr>\n",
       "  </tbody>\n",
       "</table>\n",
       "</div>"
      ],
      "text/plain": [
       "                             label    sum\n",
       "65   PAY_SMS_REGISTRATION_MONTH_11  10591\n",
       "0              PAY_APPROVAL_TYPE_L  10586\n",
       "3          PAY_CATEGORY_CODE__1799  10014\n",
       "101  PAY_SMS_REGISTRATION_TIME__18   8639\n",
       "102  PAY_SMS_REGISTRATION_TIME__12   8378\n",
       "100  PAY_SMS_REGISTRATION_TIME__17   8354\n",
       "105  PAY_SMS_REGISTRATION_TIME__13   8331\n",
       "109  PAY_SMS_REGISTRATION_TIME__19   8269\n",
       "106  PAY_SMS_REGISTRATION_TIME__14   8266\n",
       "99   PAY_SMS_REGISTRATION_TIME__15   8247"
      ]
     },
     "execution_count": 9,
     "metadata": {},
     "output_type": "execute_result"
    }
   ],
   "source": [
    "al_2[al_2[\"sum\"] > 5295][:50].sort_values(by=['sum'], ascending = False).head(10)"
   ]
  },
  {
   "cell_type": "markdown",
   "metadata": {},
   "source": [
    "### AR 돌리기"
   ]
  },
  {
   "cell_type": "code",
   "execution_count": 10,
   "metadata": {},
   "outputs": [],
   "source": [
    "from mlxtend.frequent_patterns import apriori\n",
    "from mlxtend.frequent_patterns import association_rules"
   ]
  },
  {
   "cell_type": "code",
   "execution_count": 11,
   "metadata": {},
   "outputs": [
    {
     "data": {
      "text/plain": [
       "(10591, 779)"
      ]
     },
     "execution_count": 11,
     "metadata": {},
     "output_type": "execute_result"
    }
   ],
   "source": [
    "al.shape"
   ]
  },
  {
   "cell_type": "code",
   "execution_count": null,
   "metadata": {},
   "outputs": [],
   "source": [
    "# min_support 0.01 이하는 발생하지 않은 사건으로 취급\n",
    "# confidence는 일단 고려하지 않음\n",
    "# lift의 min_threshold를 2로 설정 (두 사건이 독립일때 기대되는 동시발생빈도보다 2배 높은 동시발생빈도)\n",
    "\n",
    "frequent_itemsets = apriori(al, min_support=0.01, use_colnames=True, max_len=2)\n",
    "rules = association_rules(frequent_itemsets, metric=\"lift\", min_threshold=2)"
   ]
  },
  {
   "cell_type": "code",
   "execution_count": null,
   "metadata": {},
   "outputs": [],
   "source": [
    "# 총 6534개의 규칙 발견, 조건절과 결과절이 서로 뒤바뀐 경우라면 같은 경우로 취급하기 때문에 이보다 규칙 수는 더 적음\n",
    "\n",
    "len(rules)"
   ]
  },
  {
   "cell_type": "code",
   "execution_count": null,
   "metadata": {},
   "outputs": [],
   "source": [
    "# 중복 규칙을 삭제하는 과정\n",
    "\n",
    "dup_rule_df = rules.sort_values(by='lift', ascending=False)[['antecedents','consequents']]\n",
    "dup_rule_df['antecedents'] = dup_rule_df['antecedents'].map(lambda x: str(x).replace('frozenset({','').replace('})','')[1:-1])\n",
    "dup_rule_df['consequents'] = dup_rule_df['consequents'].map(lambda x: str(x).replace('frozenset({','').replace('})','')[1:-1])\n",
    "\n",
    "rule_set = []\n",
    "\n",
    "for i in range(len(dup_rule_df)):\n",
    "    x = set(dup_rule_df.loc[i,:])\n",
    "    rule_set.append(x)\n",
    "\n",
    "rules['dup?'] = rule_set\n",
    "rules['dup?'] = rules['dup?'].map(lambda x: str(x))\n",
    "rules = rules.drop_duplicates(subset=['dup?']).sort_values(by='lift', ascending=False)\n",
    "\n",
    "del rules['dup?']"
   ]
  },
  {
   "cell_type": "markdown",
   "metadata": {},
   "source": [
    "### AR 결과\n",
    "\n",
    "lift 최소값 2 기준으로 2958개의 규칙 발견\n"
   ]
  },
  {
   "cell_type": "code",
   "execution_count": null,
   "metadata": {},
   "outputs": [],
   "source": [
    "# 가능한 룰의 최대 갯수\n",
    "\n",
    "(779*778)/2"
   ]
  },
  {
   "cell_type": "code",
   "execution_count": null,
   "metadata": {},
   "outputs": [],
   "source": [
    "# 총 3531개의 규칙 발견\n",
    "\n",
    "len(rules)"
   ]
  },
  {
   "cell_type": "code",
   "execution_count": null,
   "metadata": {
    "scrolled": true
   },
   "outputs": [],
   "source": [
    "# lift 값이 매우 높은 규칙들은 상식상 당연한 결과\n",
    "\n",
    "rules.head(10)"
   ]
  },
  {
   "cell_type": "code",
   "execution_count": null,
   "metadata": {},
   "outputs": [],
   "source": [
    "rules_for_network = rules[['antecedents','consequents','lift']]\n",
    "rules_for_network.head()"
   ]
  },
  {
   "cell_type": "code",
   "execution_count": null,
   "metadata": {},
   "outputs": [],
   "source": [
    "rules_for_network['antecedents'] = rules_for_network['antecedents'].map(lambda x: str(x).replace('frozenset({','').replace('})','')[1:-1])\n",
    "rules_for_network['consequents'] = rules_for_network['consequents'].map(lambda x: str(x).replace('frozenset({','').replace('})','')[1:-1])\n",
    "forMatrix = rules_for_network.copy()"
   ]
  },
  {
   "cell_type": "code",
   "execution_count": null,
   "metadata": {},
   "outputs": [],
   "source": [
    "rules_for_network.columns = ['Source','Target', 'Weight']\n",
    "rules_for_network.head()"
   ]
  },
  {
   "cell_type": "code",
   "execution_count": null,
   "metadata": {},
   "outputs": [],
   "source": [
    "# 분석에 사용할 lift 값만 따로 edgelist형태로 저장\n",
    "\n",
    "rules_for_network.to_csv('data/AR_allcol_edgelist.csv', index=False)"
   ]
  },
  {
   "cell_type": "code",
   "execution_count": 141,
   "metadata": {},
   "outputs": [],
   "source": [
    "# # 혹시 몰라서 매트릭스 형태로도 저장\n",
    "\n",
    "# AR_adj_matrix = pd.DataFrame(index=al.columns, columns=al.columns)\n",
    "\n",
    "# for i,j,k in zip(forMatrix['antecedents'], forMatrix['consequents'], forMatrix['lift']) :\n",
    "#     AR_adj_matrix.loc[i,j] = k\n",
    "#     AR_adj_matrix.loc[j,i] = k   \n",
    "    \n",
    "# AR_adj_matrix_fillzero = AR_adj_matrix.fillna(int(0))\n",
    "# AR_adj_matrix_fillzero.to_csv(\"data/AR_adj_matrix_fillzero.csv\")"
   ]
  },
  {
   "cell_type": "code",
   "execution_count": null,
   "metadata": {},
   "outputs": [],
   "source": []
  }
 ],
 "metadata": {
  "kernelspec": {
   "display_name": "Python 3",
   "language": "python",
   "name": "python3"
  },
  "language_info": {
   "codemirror_mode": {
    "name": "ipython",
    "version": 3
   },
   "file_extension": ".py",
   "mimetype": "text/x-python",
   "name": "python",
   "nbconvert_exporter": "python",
   "pygments_lexer": "ipython3",
   "version": "3.7.1"
  }
 },
 "nbformat": 4,
 "nbformat_minor": 2
}
