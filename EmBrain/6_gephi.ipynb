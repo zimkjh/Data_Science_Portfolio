{
 "cells": [
  {
   "cell_type": "markdown",
   "metadata": {},
   "source": [
    "## p-value"
   ]
  },
  {
   "cell_type": "code",
   "execution_count": 96,
   "metadata": {},
   "outputs": [
    {
     "data": {
      "text/plain": [
       "(0.8660254037844386, 0.011724811003954654)"
      ]
     },
     "execution_count": 96,
     "metadata": {},
     "output_type": "execute_result"
    }
   ],
   "source": [
    "# 예시\n",
    "a = [0, 0, 0, 1, 1, 1, 1]\n",
    "b = [0, 1, 2, 3, 4, 5, 6]\n",
    "stats.pearsonr(a, b)"
   ]
  },
  {
   "cell_type": "markdown",
   "metadata": {},
   "source": [
    "앞이 상관계수 뒤가 p-value"
   ]
  },
  {
   "cell_type": "code",
   "execution_count": 97,
   "metadata": {
    "collapsed": true
   },
   "outputs": [],
   "source": [
    "res = pd.DataFrame(columns = [0,1,2,3])\n",
    "for i in range(cnt.shape[1]-4, cnt.shape[1]):\n",
    "    for j in range(cnt.shape[1]-4):\n",
    "        pearr = stats.pearsonr(cnt.iloc[:,i:i+1].iloc[:,0],cnt.iloc[:,j:j+1].iloc[:,0])\n",
    "        if(pearr[1] < 0.05):\n",
    "            temp = pd.DataFrame([cnt.columns[i], cnt.columns[j], pearr[0], pearr[1]]).T\n",
    "            res = res.append(temp)            "
   ]
  },
  {
   "cell_type": "code",
   "execution_count": 98,
   "metadata": {
    "collapsed": true
   },
   "outputs": [],
   "source": [
    "# 가중치 준 버전 - count\n",
    "cnt = cnt_w.copy()\n",
    "res = pd.DataFrame(columns = [0,1,2,3])\n",
    "for i in range(cnt.shape[1]-4, cnt.shape[1]):\n",
    "    for j in range(cnt.shape[1]-4):\n",
    "        pearr = stats.pearsonr(cnt.iloc[:,i:i+1].iloc[:,0],cnt.iloc[:,j:j+1].iloc[:,0])\n",
    "        if(pearr[1] < 0.05):\n",
    "            temp = pd.DataFrame([cnt.columns[i], cnt.columns[j], pearr[0], pearr[1]]).T\n",
    "            res = res.append(temp)            "
   ]
  },
  {
   "cell_type": "code",
   "execution_count": 99,
   "metadata": {
    "collapsed": true
   },
   "outputs": [],
   "source": [
    "# 가중치 준 버전 - mean\n",
    "cnt = mean_w.copy()\n",
    "res = pd.DataFrame(columns = [0,1,2,3])\n",
    "for i in range(cnt.shape[1]-4, cnt.shape[1]):\n",
    "    for j in range(cnt.shape[1]-4):\n",
    "        pearr = stats.pearsonr(cnt.iloc[:,i:i+1].iloc[:,0],cnt.iloc[:,j:j+1].iloc[:,0])\n",
    "        if(pearr[1] < 0.05):\n",
    "            temp = pd.DataFrame([cnt.columns[i], cnt.columns[j], pearr[0], pearr[1]]).T\n",
    "            res = res.append(temp)            "
   ]
  },
  {
   "cell_type": "code",
   "execution_count": 102,
   "metadata": {
    "scrolled": false
   },
   "outputs": [
    {
     "name": "stdout",
     "output_type": "stream",
     "text": [
      "(474, 4)\n"
     ]
    },
    {
     "data": {
      "text/html": [
       "<div>\n",
       "<style scoped>\n",
       "    .dataframe tbody tr th:only-of-type {\n",
       "        vertical-align: middle;\n",
       "    }\n",
       "\n",
       "    .dataframe tbody tr th {\n",
       "        vertical-align: top;\n",
       "    }\n",
       "\n",
       "    .dataframe thead th {\n",
       "        text-align: right;\n",
       "    }\n",
       "</style>\n",
       "<table border=\"1\" class=\"dataframe\">\n",
       "  <thead>\n",
       "    <tr style=\"text-align: right;\">\n",
       "      <th></th>\n",
       "      <th>0</th>\n",
       "      <th>1</th>\n",
       "      <th>2</th>\n",
       "      <th>3</th>\n",
       "    </tr>\n",
       "  </thead>\n",
       "  <tbody>\n",
       "    <tr>\n",
       "      <th>0</th>\n",
       "      <td>oil_GS</td>\n",
       "      <td>mean_11번가</td>\n",
       "      <td>0.438953</td>\n",
       "      <td>1.11902e-33</td>\n",
       "    </tr>\n",
       "    <tr>\n",
       "      <th>0</th>\n",
       "      <td>oil_GS</td>\n",
       "      <td>mean_BAND</td>\n",
       "      <td>0.340176</td>\n",
       "      <td>4.80358e-20</td>\n",
       "    </tr>\n",
       "    <tr>\n",
       "      <th>0</th>\n",
       "      <td>oil_GS</td>\n",
       "      <td>mean_CBS 레인보우</td>\n",
       "      <td>0.119933</td>\n",
       "      <td>0.00165022</td>\n",
       "    </tr>\n",
       "    <tr>\n",
       "      <th>0</th>\n",
       "      <td>oil_GS</td>\n",
       "      <td>mean_CJ온마트</td>\n",
       "      <td>0.503338</td>\n",
       "      <td>2.43699e-45</td>\n",
       "    </tr>\n",
       "    <tr>\n",
       "      <th>0</th>\n",
       "      <td>oil_GS</td>\n",
       "      <td>mean_Cyworld</td>\n",
       "      <td>0.0836726</td>\n",
       "      <td>0.0284253</td>\n",
       "    </tr>\n",
       "  </tbody>\n",
       "</table>\n",
       "</div>"
      ],
      "text/plain": [
       "        0              1          2            3\n",
       "0  oil_GS      mean_11번가   0.438953  1.11902e-33\n",
       "0  oil_GS      mean_BAND   0.340176  4.80358e-20\n",
       "0  oil_GS  mean_CBS 레인보우   0.119933   0.00165022\n",
       "0  oil_GS     mean_CJ온마트   0.503338  2.43699e-45\n",
       "0  oil_GS   mean_Cyworld  0.0836726    0.0284253"
      ]
     },
     "execution_count": 102,
     "metadata": {},
     "output_type": "execute_result"
    }
   ],
   "source": [
    "print(res.shape)\n",
    "res.head()"
   ]
  },
  {
   "cell_type": "code",
   "execution_count": 103,
   "metadata": {
    "collapsed": true
   },
   "outputs": [],
   "source": [
    "res.columns = [\"Source\",\"Target\",\"Weight\",\"p-value\"]\n",
    "res[\"Weight\"] = abs(res[\"Weight\"])"
   ]
  },
  {
   "cell_type": "markdown",
   "metadata": {},
   "source": [
    "## Gephi 그리기\n",
    "\n",
    "- 1. 어플끼리만\n",
    "- 2. 어플 카테고리로 묶어서\n",
    "- 3. 결제 카테고리로 묶어서 (store 빼고 cat만)\n",
    "- 4. 결제 store끼리"
   ]
  },
  {
   "cell_type": "code",
   "execution_count": 53,
   "metadata": {
    "collapsed": true
   },
   "outputs": [],
   "source": [
    "# 기본 데이터\n",
    "app = cnt[cnt.columns[cnt.columns.str.contains(\"cnt\")]]\n",
    "pay = cnt[cnt.columns[[x[:3] == \"PAY\" for x in cnt.columns]]]\n",
    "target = cnt.iloc[:,-4:]\n",
    "# 패널/gender/age_10/oil 데이터\n",
    "meta_data = oil_r[[\"PANEL_ID\", \"gender\",\"age_10\",\"CATEGORY_GROUP_CODE_231\",\"CATEGORY_GROUP_CODE_232\",\"CATEGORY_GROUP_CODE_233\",\"CATEGORY_GROUP_CODE_234\"]]\n",
    "meta_data.columns = [\"panel_id\", \"gender\",\"age_10\",\"oil_GS\",\"oil_SK\",\"oil_S-oil\",\"oil_HD\"]\n",
    "# 패널목록\n",
    "panel_list = list(meta_data[\"panel_id\"])"
   ]
  },
  {
   "cell_type": "markdown",
   "metadata": {},
   "source": [
    "#### 0. 어플 이름으로"
   ]
  },
  {
   "cell_type": "code",
   "execution_count": 90,
   "metadata": {
    "collapsed": true
   },
   "outputs": [],
   "source": [
    "app0 = pd.read_csv(\"data/PANEL/APP Refine_Usage_Sum_Time.csv\", encoding = \"cp949\")"
   ]
  },
  {
   "cell_type": "code",
   "execution_count": 156,
   "metadata": {
    "collapsed": true
   },
   "outputs": [],
   "source": [
    "# oil 패널들만 남기기\n",
    "app0[\"index\"] = app0.apply(lambda x: 1 if x[\"panel_id\"] in panel_list else 0 , axis = 1)\n",
    "app0_oil = app0[app0[\"index\"]==1]\n",
    "# n : 초기 필터링 개수\n",
    "n = 200\n",
    "app_usage = app0_oil.groupby(\"app_name\").count().reset_index()\n",
    "app_usage = app_usage[app_usage[\"panel_id\"] > n]\n",
    "# 사용할 어플 : 어플사용수 dictionary 화\n",
    "app_dict = app_usage[[\"app_name\",\"reg_cnt\"]].set_index(\"app_name\").to_dict()[\"reg_cnt\"]\n",
    "app_list = list(app_dict.keys())\n",
    "# 사용할 어플만 남기기\n",
    "app0_oil[\"index\"] = app0_oil.apply(lambda x : 1 if x[\"app_name\"] in app_list else 0, axis = 1)\n",
    "app0_oil = app0_oil[app0_oil[\"index\"] == 1]\n",
    "# pivot table\n",
    "app0_pivot = pd.pivot_table(app0_oil, index = \"panel_id\", columns = \"app_name\", values= \"total_time_stamp\", aggfunc = np.mean).reset_index().fillna(0)\n",
    "# meta data 붙이기\n",
    "meta_data.columns = ['panel_id', 'gender', 'age_10', 'oil_GS', 'oil_SK', 'oil_S-oil','oil_HD']\n",
    "app0_pivot = pd.merge(app0_pivot, meta_data, on =\"panel_id\")\n",
    "# 가중치 곱하기\n",
    "app0_pivot = app0_pivot.drop(\"panel_id\", axis = 1)\n",
    "app0_w = app0_pivot.apply(lambda x: x * (weight.loc[str(int(x[\"gender\"]))+\"-\"+str(int(x[\"age_10\"]))][\"weight\"]), axis = 1)\n",
    "app0_w = app0_w.drop([\"age_10\",\"gender\"], axis =1)"
   ]
  },
  {
   "cell_type": "code",
   "execution_count": 157,
   "metadata": {
    "collapsed": true
   },
   "outputs": [],
   "source": [
    "# gephi 모양 만들기\n",
    "cnt = app0_w.copy()\n",
    "\n",
    "res = pd.DataFrame(columns = [0,1,2,3])\n",
    "for i in range(cnt.shape[1]-4, cnt.shape[1]):\n",
    "    for j in range(cnt.shape[1]-4):\n",
    "        pearr = stats.pearsonr(cnt.iloc[:,i:i+1].iloc[:,0],cnt.iloc[:,j:j+1].iloc[:,0])\n",
    "        if(pearr[1] < 0.05):\n",
    "            temp = pd.DataFrame([cnt.columns[i], cnt.columns[j], pearr[0], pearr[1]]).T\n",
    "            res = res.append(temp)            \n",
    "res.columns = [\"Source\",\"Target\",\"Weight\",\"p-value\"]\n",
    "# size 넣기\n",
    "oil_list = [\"oil_GS\",\"oil_SK\",\"oil_S-oil\",\"oil_HD\"]\n",
    "res_node = pd.DataFrame()\n",
    "res_node[\"node\"] = list(res[\"Source\"].unique()) + list(res[\"Target\"].unique())\n",
    "res_node[\"size\"] = res_node.apply(lambda x : 50 if x[\"node\"] in oil_list else 20, axis = 1)\n",
    "# 하나의 주유소와만 연결된 애들 찾기\n",
    "temp = res.groupby(\"Target\").count().reset_index()\n",
    "once_list = list(temp[temp[\"Source\"] == 1][\"Target\"])\n",
    "res_node[\"color\"] = res_node.apply(lambda x: 0 if x[\"node\"] in once_list else x[\"size\"], axis = 1)\n",
    "res_node.columns = [\"Id\", \"size\",\"color\"]\n",
    "res_node[\"Label\"] = res_node[\"Id\"]"
   ]
  },
  {
   "cell_type": "code",
   "execution_count": 223,
   "metadata": {
    "collapsed": true
   },
   "outputs": [],
   "source": [
    "# app category 넣기\n",
    "cat = pd.read_csv(\"data/0226_app_category.csv\", encoding = \"cp949\")\n",
    "# app_name과 app_name2 에 있어서 두 dictionary 합쳐줌 (안드로이드 - ios 예상?)\n",
    "cat_dict = cat[[\"app_name\",\"category\"]].set_index(\"app_name\").to_dict()[\"category\"]\n",
    "cat_dict2 = cat[[\"app_name2\",\"category\"]].set_index(\"app_name2\").to_dict()[\"category\"]\n",
    "cat_dict.update(cat_dict2)\n",
    "cat_dict[\"oil_GS\"] = \"oil\"\n",
    "cat_dict[\"oil_SK\"] = \"oil\"\n",
    "cat_dict[\"oil_S-oil\"] = \"oil\"\n",
    "cat_dict[\"oil_HD\"] = \"oil\"\n",
    "sub_cat_dict = cat[[\"app_name\",\"sub_category\"]].set_index(\"app_name\").to_dict()[\"sub_category\"]\n",
    "sub_cat_dict2 = cat[[\"app_name2\",\"sub_category\"]].set_index(\"app_name2\").to_dict()[\"sub_category\"]\n",
    "sub_cat_dict.update(sub_cat_dict2)\n",
    "sub_cat_dict[\"oil_GS\"] = \"oil\"\n",
    "sub_cat_dict[\"oil_SK\"] = \"oil\"\n",
    "sub_cat_dict[\"oil_S-oil\"] = \"oil\"\n",
    "sub_cat_dict[\"oil_HD\"] = \"oil\"\n",
    "# node 데이터에 붙이기\n",
    "res_node[\"cat\"] = res_node.apply(lambda x: cat_dict[x[\"Id\"]], axis =1)\n",
    "res_node[\"sub_cat\"] = res_node.apply(lambda x: sub_cat_dict[x[\"Id\"]], axis =1)\n",
    "# 카테고리 list 화\n",
    "cat_list = list(sorted(set(cat_dict.values())))\n",
    "sub_cat_list = list(sorted(set(sub_cat_dict.values())))\n",
    "# categorical 숫자 column\n",
    "res_node[\"cat_n\"] = res_node.apply(lambda x: cat_list.index(x[\"cat\"]), axis =1)\n",
    "res_node[\"sub_cat_n\"] = res_node.apply(lambda x: sub_cat_list.index(x[\"sub_cat\"]), axis =1)"
   ]
  },
  {
   "cell_type": "code",
   "execution_count": 229,
   "metadata": {
    "collapsed": true
   },
   "outputs": [],
   "source": [
    "res.to_csv(\"data/0226_gephi_0_edge.csv\", encoding = \"cp949\", index= False)\n",
    "res_node.to_csv(\"data/0226_gephi_0_node.csv\", encoding = \"cp949\", index= False)"
   ]
  },
  {
   "cell_type": "markdown",
   "metadata": {},
   "source": [
    "#### 1. 어플 세부카테고리로"
   ]
  },
  {
   "cell_type": "code",
   "execution_count": 51,
   "metadata": {
    "collapsed": true
   },
   "outputs": [],
   "source": [
    "app1 = pd.read_csv(\"data/PANEL/APP Refine_CategoryTime_MME.csv\", encoding = \"cp949\")"
   ]
  },
  {
   "cell_type": "code",
   "execution_count": 67,
   "metadata": {
    "collapsed": true
   },
   "outputs": [],
   "source": [
    "# oil 패널들만 남기기\n",
    "app1[\"index\"] = app1.apply(lambda x: 1 if x[\"panel_id\"] in panel_list else 0 , axis = 1)\n",
    "app1_oil = app1[app1[\"index\"]==1]\n",
    "# pivot table\n",
    "app1_pivot = pd.pivot_table(app1_oil, index = \"panel_id\", columns = \"sub_category\", values = \"Total_UsageTime\", aggfunc=np.mean).reset_index().fillna(0)\n",
    "# meta data 붙이기\n",
    "app1_pivot = pd.merge(app1_pivot, meta_data, on =\"panel_id\")\n",
    "# 가중치 곱하기\n",
    "app1_pivot = app1_pivot.drop(\"panel_id\", axis = 1)\n",
    "app1_w = app1_pivot.apply(lambda x: x * (weight.loc[str(int(x[\"gender\"]))+\"-\"+str(int(x[\"age_10\"]))][\"weight\"]), axis = 1)\n",
    "app1_w = app1_w.drop([\"age_10\",\"gender\"], axis =1)"
   ]
  },
  {
   "cell_type": "code",
   "execution_count": 68,
   "metadata": {
    "collapsed": true
   },
   "outputs": [],
   "source": [
    "# gephi 모양 만들기\n",
    "cnt = app1_w.copy()\n",
    "\n",
    "res = pd.DataFrame(columns = [0,1,2,3])\n",
    "for i in range(cnt.shape[1]-4, cnt.shape[1]):\n",
    "    for j in range(cnt.shape[1]-4):\n",
    "        pearr = stats.pearsonr(cnt.iloc[:,i:i+1].iloc[:,0],cnt.iloc[:,j:j+1].iloc[:,0])\n",
    "        if(pearr[1] < 0.05):\n",
    "            temp = pd.DataFrame([cnt.columns[i], cnt.columns[j], pearr[0], pearr[1]]).T\n",
    "            res = res.append(temp)            \n",
    "res.columns = [\"Source\",\"Target\",\"Weight\",\"p-value\"]\n",
    "# size 넣기\n",
    "oil_list = [\"oil_GS\",\"oil_SK\",\"oil_S-oil\",\"oil_HD\"]\n",
    "res_node = pd.DataFrame()\n",
    "res_node[\"node\"] = list(res[\"Source\"].unique()) + list(res[\"Target\"].unique())\n",
    "res_node[\"size\"] = res_node.apply(lambda x : 50 if x[\"node\"] in oil_list else 20, axis = 1)\n",
    "# 하나의 주유소와만 연결된 애들 찾기\n",
    "temp = res.groupby(\"Target\").count().reset_index()\n",
    "once_list = list(temp[temp[\"Source\"] == 1][\"Target\"])\n",
    "res_node[\"color\"] = res_node.apply(lambda x: 0 if x[\"node\"] in once_list else x[\"size\"], axis = 1)\n",
    "res_node.columns = [\"Id\", \"size\",\"color\"]\n",
    "res_node[\"Label\"] = res_node[\"Id\"]"
   ]
  },
  {
   "cell_type": "code",
   "execution_count": 71,
   "metadata": {
    "collapsed": true
   },
   "outputs": [],
   "source": [
    "res.to_csv(\"data/0225_gephi_1_edge.csv\", encoding = \"cp949\", index= False)\n",
    "res_node.to_csv(\"data/0225_gephi_1_node.csv\", encoding = \"cp949\", index= False)"
   ]
  },
  {
   "cell_type": "markdown",
   "metadata": {},
   "source": [
    "#### 2. 어플 카테고리로 묶어서"
   ]
  },
  {
   "cell_type": "code",
   "execution_count": 21,
   "metadata": {
    "collapsed": true
   },
   "outputs": [],
   "source": [
    "app2 = pd.read_csv(\"data/PANEL/APP Refine_CategoryTime_MME.csv\", encoding = \"cp949\")"
   ]
  },
  {
   "cell_type": "code",
   "execution_count": 22,
   "metadata": {
    "collapsed": true
   },
   "outputs": [],
   "source": [
    "# oil 패널들만 남기기\n",
    "app2[\"index\"] = app2.apply(lambda x: 1 if x[\"panel_id\"] in panel_list else 0 , axis = 1)\n",
    "app2_oil = app2[app2[\"index\"]==1]\n",
    "# pivot table\n",
    "app2_pivot = pd.pivot_table(app2_oil, index = \"panel_id\", columns = \"category\", values = \"Total_UsageTime\", aggfunc=np.mean).reset_index().fillna(0)\n",
    "# meta data 붙이기\n",
    "app2_pivot = pd.merge(app2_pivot, meta_data, on =\"panel_id\")\n",
    "# 가중치 곱하기\n",
    "app2_pivot = app2_pivot.drop(\"panel_id\", axis = 1)\n",
    "app2_w = app2_pivot.apply(lambda x: x * (weight.loc[str(int(x[\"gender\"]))+\"-\"+str(int(x[\"age_10\"]))][\"weight\"]), axis = 1)\n",
    "app2_w = app2_w.drop([\"age_10\",\"gender\"], axis =1)"
   ]
  },
  {
   "cell_type": "code",
   "execution_count": 31,
   "metadata": {
    "collapsed": true,
    "scrolled": true
   },
   "outputs": [],
   "source": [
    "# gephi 모양 만들기\n",
    "cnt = app2_w.copy()\n",
    "\n",
    "res = pd.DataFrame(columns = [0,1,2,3])\n",
    "for i in range(cnt.shape[1]-4, cnt.shape[1]):\n",
    "    for j in range(cnt.shape[1]-4):\n",
    "        pearr = stats.pearsonr(cnt.iloc[:,i:i+1].iloc[:,0],cnt.iloc[:,j:j+1].iloc[:,0])\n",
    "        if(pearr[1] < 0.05):\n",
    "            temp = pd.DataFrame([cnt.columns[i], cnt.columns[j], pearr[0], pearr[1]]).T\n",
    "            res = res.append(temp)            \n",
    "res.columns = [\"Source\",\"Target\",\"Weight\",\"p-value\"]\n",
    "# size 넣기\n",
    "oil_list = [\"oil_GS\",\"oil_SK\",\"oil_S-oil\",\"oil_HD\"]\n",
    "res_node = pd.DataFrame()\n",
    "res_node[\"node\"] = list(res[\"Source\"].unique()) + list(res[\"Target\"].unique())\n",
    "res_node[\"size\"] = res_node.apply(lambda x : 50 if x[\"node\"] in oil_list else 20, axis = 1)\n",
    "# 하나의 주유소와만 연결된 애들 찾기\n",
    "temp = res.groupby(\"Target\").count().reset_index()\n",
    "once_list = list(temp[temp[\"Source\"] == 1][\"Target\"])\n",
    "res_node[\"color\"] = res_node.apply(lambda x: 0 if x[\"node\"] in once_list else x[\"size\"], axis = 1)\n",
    "res_node.columns = [\"Id\", \"size\",\"color\"]\n",
    "res_node[\"Label\"] = res_node[\"Id\"]"
   ]
  },
  {
   "cell_type": "code",
   "execution_count": 33,
   "metadata": {
    "collapsed": true
   },
   "outputs": [],
   "source": [
    "res.to_csv(\"data/0225_gephi_2_edge.csv\", encoding = \"cp949\", index= False)\n",
    "res_node.to_csv(\"data/0225_gephi_2_node.csv\", encoding = \"cp949\", index= False)"
   ]
  },
  {
   "cell_type": "markdown",
   "metadata": {},
   "source": [
    "#### 3. 결제 카테고리별"
   ]
  },
  {
   "cell_type": "code",
   "execution_count": 231,
   "metadata": {
    "collapsed": true
   },
   "outputs": [],
   "source": [
    "pay3 = pd.read_csv(\"data/PANEL/PAYMENT Summary_Category.csv\", encoding = \"cp949\")"
   ]
  },
  {
   "cell_type": "code",
   "execution_count": 147,
   "metadata": {
    "collapsed": true
   },
   "outputs": [],
   "source": [
    "brand_code = pd.read_csv(\"data/0225_additional_cat.csv\", encoding=\"cp949\")"
   ]
  },
  {
   "cell_type": "code",
   "execution_count": 148,
   "metadata": {
    "collapsed": true
   },
   "outputs": [],
   "source": [
    "# 카테고리알기위한 dictionary 만들기 (categorycode - categoryname)\n",
    "temp = brand_code[[\"code\",\"Category\"]]\n",
    "temp = temp.set_index(\"code\")\n",
    "category_dict = temp.to_dict()[\"Category\"]\n",
    "category_dict[\"oil_GS\"] = \"oil_GS\"\n",
    "category_dict[\"oil_SK\"] = \"oil_SK\"\n",
    "category_dict[\"oil_S-oil\"] = \"oil_S-oil\"\n",
    "category_dict[\"oil_HD\"] = \"oil_HD\""
   ]
  },
  {
   "cell_type": "code",
   "execution_count": 149,
   "metadata": {
    "collapsed": true
   },
   "outputs": [],
   "source": [
    "# oil 패널들만 남기기\n",
    "pay3[\"index\"] = pay3.apply(lambda x: 1 if x[\"PANEL_ID\"] in panel_list else 0 , axis = 1)\n",
    "pay3_oil = pay3[pay3[\"index\"]==1]\n",
    "# pivot table\n",
    "pay3_pivot = pd.pivot_table(pay3_oil, index = \"PANEL_ID\", columns = \"CATEGORY_CODE\", values = \"CATEGORY_CNT\", aggfunc=np.mean).reset_index().fillna(0)\n",
    "# meta data 붙이기\n",
    "meta_data.columns = ['PANEL_ID', 'gender', 'age_10', 'oil_GS', 'oil_SK', 'oil_S-oil','oil_HD']\n",
    "pay3_pivot = pd.merge(pay3_pivot, meta_data, on =\"PANEL_ID\")\n",
    "# 가중치 곱하기\n",
    "pay3_pivot = pay3_pivot.drop(\"PANEL_ID\", axis = 1)\n",
    "pay3_w = pay3_pivot.apply(lambda x: x * (weight.loc[str(int(x[\"gender\"]))+\"-\"+str(int(x[\"age_10\"]))][\"weight\"]), axis = 1)\n",
    "pay3_w = pay3_w.drop([\"age_10\",\"gender\"], axis =1)\n",
    "pay3_w.columns = [category_dict[x] for x in pay3_w.columns]"
   ]
  },
  {
   "cell_type": "code",
   "execution_count": 151,
   "metadata": {
    "collapsed": true
   },
   "outputs": [],
   "source": [
    "# gephi 모양 만들기\n",
    "cnt = pay3_w.copy()\n",
    "\n",
    "res = pd.DataFrame(columns = [0,1,2,3])\n",
    "for i in range(cnt.shape[1]-4, cnt.shape[1]):\n",
    "    for j in range(cnt.shape[1]-4):\n",
    "        pearr = stats.pearsonr(cnt.iloc[:,i:i+1].iloc[:,0],cnt.iloc[:,j:j+1].iloc[:,0])\n",
    "        if(pearr[1] < 0.05):\n",
    "            temp = pd.DataFrame([cnt.columns[i], cnt.columns[j], pearr[0], pearr[1]]).T\n",
    "            res = res.append(temp)            \n",
    "res.columns = [\"Source\",\"Target\",\"Weight\",\"p-value\"]\n",
    "# size 넣기\n",
    "oil_list = [\"oil_GS\",\"oil_SK\",\"oil_S-oil\",\"oil_HD\"]\n",
    "res_node = pd.DataFrame()\n",
    "res_node[\"node\"] = list(res[\"Source\"].unique()) + list(res[\"Target\"].unique())\n",
    "res_node[\"size\"] = res_node.apply(lambda x : 50 if x[\"node\"] in oil_list else 20, axis = 1)\n",
    "# 하나의 주유소와만 연결된 애들 찾기\n",
    "temp = res.groupby(\"Target\").count().reset_index()\n",
    "once_list = list(temp[temp[\"Source\"] == 1][\"Target\"])\n",
    "res_node[\"color\"] = res_node.apply(lambda x: 0 if x[\"node\"] in once_list else x[\"size\"], axis = 1)\n",
    "res_node.columns = [\"Id\", \"size\",\"color\"]\n",
    "res_node[\"Label\"] = res_node[\"Id\"]"
   ]
  },
  {
   "cell_type": "code",
   "execution_count": 152,
   "metadata": {
    "collapsed": true
   },
   "outputs": [],
   "source": [
    "res.to_csv(\"data/0225_gephi_3_edge.csv\", encoding = \"cp949\", index= False)\n",
    "res_node.to_csv(\"data/0225_gephi_3_node.csv\", encoding = \"cp949\", index= False)"
   ]
  },
  {
   "cell_type": "code",
   "execution_count": 154,
   "metadata": {},
   "outputs": [
    {
     "data": {
      "text/plain": [
       "(61, 4)"
      ]
     },
     "execution_count": 154,
     "metadata": {},
     "output_type": "execute_result"
    }
   ],
   "source": [
    "res.shape"
   ]
  },
  {
   "cell_type": "markdown",
   "metadata": {},
   "source": [
    "#### 4. 결제 store 별"
   ]
  },
  {
   "cell_type": "code",
   "execution_count": 54,
   "metadata": {
    "collapsed": true
   },
   "outputs": [],
   "source": [
    "pay4 = pd.read_csv(\"data/0225_payment_brandname.csv\", encoding = \"cp949\")\n",
    "del pay4[\"Unnamed: 0\"]"
   ]
  },
  {
   "cell_type": "code",
   "execution_count": 55,
   "metadata": {
    "collapsed": true
   },
   "outputs": [],
   "source": [
    "brand_code = pd.read_csv(\"data/0225_brand_code.csv\", encoding=\"cp949\")"
   ]
  },
  {
   "cell_type": "code",
   "execution_count": 56,
   "metadata": {
    "collapsed": true
   },
   "outputs": [],
   "source": [
    "# 카테고리알기위한 dictionary 만들기\n",
    "temp = brand_code[[\"BrandName\",\"CategoryName\"]]\n",
    "temp = temp.set_index(\"BrandName\")\n",
    "category_dict = temp.to_dict()[\"CategoryName\"]\n",
    "category_dict[\"oil_GS\"] = \"oil\"\n",
    "category_dict[\"oil_SK\"] = \"oil\"\n",
    "category_dict[\"oil_S-oil\"] = \"oil\"\n",
    "category_dict[\"oil_HD\"] = \"oil\""
   ]
  },
  {
   "cell_type": "code",
   "execution_count": 57,
   "metadata": {
    "collapsed": true
   },
   "outputs": [],
   "source": [
    "# oil 패널들만 남기기\n",
    "pay4[\"index\"] = pay4.apply(lambda x: 1 if x[\"PANEL_ID\"] in panel_list else 0 , axis = 1)\n",
    "pay4_oil = pay4[pay4[\"index\"]==1]\n",
    "# pivot table\n",
    "pay4_pivot = pd.pivot_table(pay4_oil, index = \"PANEL_ID\", columns = \"BrandName\", values = \"BRAND_CNT\", aggfunc=np.mean).reset_index().fillna(0)\n",
    "# meta data 붙이기\n",
    "meta_data.columns = ['PANEL_ID', 'gender', 'age_10', 'oil_GS', 'oil_SK', 'oil_S-oil','oil_HD']\n",
    "pay4_pivot = pd.merge(pay4_pivot, meta_data, on =\"PANEL_ID\")\n",
    "# 가중치 곱하기\n",
    "pay4_pivot = pay4_pivot.drop(\"PANEL_ID\", axis = 1)\n",
    "pay4_w = pay4_pivot.apply(lambda x: x * (weight.loc[str(int(x[\"gender\"]))+\"-\"+str(int(x[\"age_10\"]))][\"weight\"]), axis = 1)\n",
    "pay4_w = pay4_w.drop([\"age_10\",\"gender\"], axis =1)"
   ]
  },
  {
   "cell_type": "code",
   "execution_count": 86,
   "metadata": {
    "collapsed": true,
    "scrolled": true
   },
   "outputs": [],
   "source": [
    "# gephi 모양 만들기\n",
    "cnt = pay4_w.copy()\n",
    "\n",
    "res = pd.DataFrame(columns = [0,1,2,3])\n",
    "for i in range(cnt.shape[1]-4, cnt.shape[1]):\n",
    "    for j in range(cnt.shape[1]-4):\n",
    "        pearr = stats.pearsonr(cnt.iloc[:,i:i+1].iloc[:,0],cnt.iloc[:,j:j+1].iloc[:,0])\n",
    "        if(pearr[1] < 0.05):\n",
    "            temp = pd.DataFrame([cnt.columns[i], cnt.columns[j], pearr[0], pearr[1]]).T\n",
    "            res = res.append(temp)            \n",
    "res.columns = [\"Source\",\"Target\",\"Weight\",\"p-value\"]\n",
    "# size 넣기\n",
    "oil_list = [\"oil_GS\",\"oil_SK\",\"oil_S-oil\",\"oil_HD\"]\n",
    "res_node = pd.DataFrame()\n",
    "res_node[\"node\"] = list(res[\"Source\"].unique()) + list(res[\"Target\"].unique())\n",
    "res_node[\"size\"] = res_node.apply(lambda x : 50 if x[\"node\"] in oil_list else 20, axis = 1)\n",
    "# 하나의 주유소와만 연결된 애들 찾기\n",
    "temp = res.groupby(\"Target\").count().reset_index()\n",
    "once_list = list(temp[temp[\"Source\"] == 1][\"Target\"])\n",
    "res_node[\"color\"] = res_node.apply(lambda x: 0 if x[\"node\"] in once_list else x[\"size\"], axis = 1)\n",
    "res_node.columns = [\"Id\", \"size\",\"color\"]\n",
    "res_node[\"Label\"] = res_node[\"Id\"]\n",
    "res_node[\"category\"] = res_node.apply(lambda x: category_dict[x[\"Id\"]], axis = 1)\n",
    "# 카테고리 숫자로 매칭\n",
    "temp = res_node.groupby(\"category\").count().reset_index()\n",
    "temp[\"Id\"]= range(26)\n",
    "temp = temp[[\"category\",\"Id\"]]\n",
    "toID_list = temp.set_index(\"category\").to_dict()[\"Id\"]\n",
    "toID_list[\"oil\"] = 26\n",
    "res_node[\"category_n\"] = res_node.apply(lambda x: toID_list[x[\"category\"]], axis = 1)"
   ]
  },
  {
   "cell_type": "code",
   "execution_count": 73,
   "metadata": {
    "collapsed": true
   },
   "outputs": [],
   "source": [
    "# 16 - 온라인쇼핑만 그리기\n",
    "res[\"index\"] = res.apply(lambda x: 1 if toID_list[category_dict[x[\"Target\"]]] == 16 else 0, axis =1)\n",
    "res = res[res[\"index\"]==1]\n",
    "del res[\"index\"]\n",
    "\n",
    "res_node[\"index\"] = res_node.apply(lambda x: 1 if (x[\"category\"] == \"온라인쇼핑\" or x[\"category\"] == \"oil\") else 0, axis =1)\n",
    "res_node= res_node[res_node[\"index\"] == 1]\n",
    "del res_node[\"index\"]\n",
    "\n",
    "res.to_csv(\"data/0225_gephi_4_16_edge.csv\", encoding = \"cp949\", index= False)\n",
    "res_node.to_csv(\"data/0225_gephi_4_16_node.csv\", encoding = \"cp949\", index= False)"
   ]
  },
  {
   "cell_type": "code",
   "execution_count": 87,
   "metadata": {
    "collapsed": true
   },
   "outputs": [],
   "source": [
    "# 6 - 보험 그리기\n",
    "res[\"index\"] = res.apply(lambda x: 1 if toID_list[category_dict[x[\"Target\"]]] == 6 else 0, axis =1)\n",
    "res = res[res[\"index\"]==1]\n",
    "del res[\"index\"]\n",
    "\n",
    "res_node[\"index\"] = res_node.apply(lambda x: 1 if (x[\"category\"] == \"보험료\" or x[\"category\"] == \"oil\") else 0, axis =1)\n",
    "res_node= res_node[res_node[\"index\"] == 1]\n",
    "del res_node[\"index\"]\n",
    "\n",
    "res.to_csv(\"data/0225_gephi_4_6_edge.csv\", encoding = \"cp949\", index= False)\n",
    "res_node.to_csv(\"data/0225_gephi_4_6_node.csv\", encoding = \"cp949\", index= False)"
   ]
  },
  {
   "cell_type": "code",
   "execution_count": 85,
   "metadata": {
    "collapsed": true
   },
   "outputs": [],
   "source": [
    "res.to_csv(\"data/0225_gephi_4_edge.csv\", encoding = \"cp949\", index= False)\n",
    "res_node.to_csv(\"data/0225_gephi_4_node.csv\", encoding = \"cp949\", index= False)"
   ]
  },
  {
   "cell_type": "code",
   "execution_count": null,
   "metadata": {
    "collapsed": true
   },
   "outputs": [],
   "source": []
  }
 ],
 "metadata": {
  "kernelspec": {
   "display_name": "Python 3",
   "language": "python",
   "name": "python3"
  },
  "language_info": {
   "codemirror_mode": {
    "name": "ipython",
    "version": 3
   },
   "file_extension": ".py",
   "mimetype": "text/x-python",
   "name": "python",
   "nbconvert_exporter": "python",
   "pygments_lexer": "ipython3",
   "version": "3.6.3"
  }
 },
 "nbformat": 4,
 "nbformat_minor": 2
}
