{
 "cells": [
  {
   "cell_type": "markdown",
   "metadata": {},
   "source": [
    "# 2018-2 spark Project"
   ]
  },
  {
   "cell_type": "markdown",
   "metadata": {},
   "source": [
    "---\n",
    "\n",
    "## RDD"
   ]
  },
  {
   "cell_type": "markdown",
   "metadata": {},
   "source": [
    "5개 이상 메소드"
   ]
  },
  {
   "cell_type": "code",
   "execution_count": 1,
   "metadata": {},
   "outputs": [
    {
     "data": {
      "text/html": [
       "\n",
       "        <div>\n",
       "            <p><b>SparkContext</b></p>\n",
       "\n",
       "            <p><a href=\"http://ip-172-31-22-1.us-east-2.compute.internal:4040\">Spark UI</a></p>\n",
       "\n",
       "            <dl>\n",
       "              <dt>Version</dt>\n",
       "                <dd><code>v2.3.1</code></dd>\n",
       "              <dt>Master</dt>\n",
       "                <dd><code>local[*]</code></dd>\n",
       "              <dt>AppName</dt>\n",
       "                <dd><code>PySparkShell</code></dd>\n",
       "            </dl>\n",
       "        </div>\n",
       "        "
      ],
      "text/plain": [
       "<SparkContext master=local[*] appName=PySparkShell>"
      ]
     },
     "execution_count": 1,
     "metadata": {},
     "output_type": "execute_result"
    }
   ],
   "source": [
    "sc"
   ]
  },
  {
   "cell_type": "code",
   "execution_count": 2,
   "metadata": {},
   "outputs": [],
   "source": [
    "import pandas as pd"
   ]
  },
  {
   "cell_type": "markdown",
   "metadata": {},
   "source": [
    "### train data 읽기"
   ]
  },
  {
   "cell_type": "code",
   "execution_count": 3,
   "metadata": {
    "scrolled": false
   },
   "outputs": [],
   "source": [
    "act = sc.textFile('file:///home/ubuntu/18-2E/sparkProject/train_activity.csv').map(lambda line : line.split(','))\n",
    "label = sc.textFile('file:///home/ubuntu/18-2E/sparkProject/train_label.csv').map(lambda line : line.split(','))"
   ]
  },
  {
   "cell_type": "markdown",
   "metadata": {},
   "source": [
    "### pandas로 확인하기"
   ]
  },
  {
   "cell_type": "code",
   "execution_count": 4,
   "metadata": {
    "scrolled": true
   },
   "outputs": [
    {
     "data": {
      "text/html": [
       "<div>\n",
       "<style scoped>\n",
       "    .dataframe tbody tr th:only-of-type {\n",
       "        vertical-align: middle;\n",
       "    }\n",
       "\n",
       "    .dataframe tbody tr th {\n",
       "        vertical-align: top;\n",
       "    }\n",
       "\n",
       "    .dataframe thead th {\n",
       "        text-align: right;\n",
       "    }\n",
       "</style>\n",
       "<table border=\"1\" class=\"dataframe\">\n",
       "  <thead>\n",
       "    <tr style=\"text-align: right;\">\n",
       "      <th></th>\n",
       "      <th>0</th>\n",
       "      <th>1</th>\n",
       "      <th>2</th>\n",
       "      <th>3</th>\n",
       "      <th>4</th>\n",
       "      <th>5</th>\n",
       "      <th>6</th>\n",
       "      <th>7</th>\n",
       "      <th>8</th>\n",
       "      <th>9</th>\n",
       "      <th>...</th>\n",
       "      <th>28</th>\n",
       "      <th>29</th>\n",
       "      <th>30</th>\n",
       "      <th>31</th>\n",
       "      <th>32</th>\n",
       "      <th>33</th>\n",
       "      <th>34</th>\n",
       "      <th>35</th>\n",
       "      <th>36</th>\n",
       "      <th>37</th>\n",
       "    </tr>\n",
       "  </thead>\n",
       "  <tbody>\n",
       "    <tr>\n",
       "      <th>0</th>\n",
       "      <td>wk</td>\n",
       "      <td>acc_id</td>\n",
       "      <td>cnt_dt</td>\n",
       "      <td>play_time</td>\n",
       "      <td>npc_exp</td>\n",
       "      <td>npc_hongmun</td>\n",
       "      <td>quest_exp</td>\n",
       "      <td>quest_hongmun</td>\n",
       "      <td>item_hongmun</td>\n",
       "      <td>game_combat_time</td>\n",
       "      <td>...</td>\n",
       "      <td>cnt_clear_bam</td>\n",
       "      <td>normal_chat</td>\n",
       "      <td>whisper_chat</td>\n",
       "      <td>district_chat</td>\n",
       "      <td>party_chat</td>\n",
       "      <td>guild_chat</td>\n",
       "      <td>faction_chat</td>\n",
       "      <td>cnt_use_buffitem</td>\n",
       "      <td>gathering_cnt</td>\n",
       "      <td>making_cnt</td>\n",
       "    </tr>\n",
       "    <tr>\n",
       "      <th>1</th>\n",
       "      <td>7</td>\n",
       "      <td>3dc6f2875dc6e6f35b9e2bdb25b391a8003386ff23becd...</td>\n",
       "      <td>4</td>\n",
       "      <td>2.08881416107027</td>\n",
       "      <td>4.4050571352657</td>\n",
       "      <td>-0.2454767368248</td>\n",
       "      <td>4.45405933933072</td>\n",
       "      <td>3.0097968979651</td>\n",
       "      <td>-0.306353601768793</td>\n",
       "      <td>1.18401086299851</td>\n",
       "      <td>...</td>\n",
       "      <td>-0.0331304236986033</td>\n",
       "      <td>-0.0340376613356785</td>\n",
       "      <td>-0.23182695053692</td>\n",
       "      <td>-0.0165738550449223</td>\n",
       "      <td>-0.275173788641312</td>\n",
       "      <td>-0.343293159909132</td>\n",
       "      <td>-0.0240280218289566</td>\n",
       "      <td>3.46693878868001</td>\n",
       "      <td>-0.0277583111202987</td>\n",
       "      <td>-0.365536464552178</td>\n",
       "    </tr>\n",
       "    <tr>\n",
       "      <th>2</th>\n",
       "      <td>8</td>\n",
       "      <td>3dc6f2875dc6e6f35b9e2bdb25b391a8003386ff23becd...</td>\n",
       "      <td>5</td>\n",
       "      <td>2.67346049372266</td>\n",
       "      <td>4.76017781944869</td>\n",
       "      <td>-0.222526822840016</td>\n",
       "      <td>6.10747941074093</td>\n",
       "      <td>4.75852847138303</td>\n",
       "      <td>-0.306353601768793</td>\n",
       "      <td>1.70953391447875</td>\n",
       "      <td>...</td>\n",
       "      <td>-0.0331304236986033</td>\n",
       "      <td>-0.0340376613356785</td>\n",
       "      <td>-0.23182695053692</td>\n",
       "      <td>-0.0165738550449223</td>\n",
       "      <td>-0.275173788641312</td>\n",
       "      <td>-0.343293159909132</td>\n",
       "      <td>-0.0240280218289566</td>\n",
       "      <td>5.07035860175402</td>\n",
       "      <td>-0.0277583111202987</td>\n",
       "      <td>-0.365536464552178</td>\n",
       "    </tr>\n",
       "    <tr>\n",
       "      <th>3</th>\n",
       "      <td>3</td>\n",
       "      <td>b8856358ff62e596fa07e3e40b8e7fd4b7729263c72b44...</td>\n",
       "      <td>2</td>\n",
       "      <td>-0.649521652982493</td>\n",
       "      <td>-0.231020534896592</td>\n",
       "      <td>-0.290803194162271</td>\n",
       "      <td>-0.245977789538834</td>\n",
       "      <td>-0.487666248870767</td>\n",
       "      <td>-0.306353601768793</td>\n",
       "      <td>-0.566706303287821</td>\n",
       "      <td>...</td>\n",
       "      <td>-0.0331304236986033</td>\n",
       "      <td>-0.0340376613356785</td>\n",
       "      <td>-0.23182695053692</td>\n",
       "      <td>-0.0165738550449223</td>\n",
       "      <td>-0.275173788641312</td>\n",
       "      <td>-0.343293159909132</td>\n",
       "      <td>-0.0240280218289566</td>\n",
       "      <td>-0.498275073381396</td>\n",
       "      <td>-0.0277583111202987</td>\n",
       "      <td>-0.365536464552178</td>\n",
       "    </tr>\n",
       "    <tr>\n",
       "      <th>4</th>\n",
       "      <td>4</td>\n",
       "      <td>b8856358ff62e596fa07e3e40b8e7fd4b7729263c72b44...</td>\n",
       "      <td>2</td>\n",
       "      <td>-0.65823531742848</td>\n",
       "      <td>-0.231874043837118</td>\n",
       "      <td>-0.290803194162271</td>\n",
       "      <td>-0.250423355452758</td>\n",
       "      <td>-0.487666248870767</td>\n",
       "      <td>-0.306353601768793</td>\n",
       "      <td>-0.569841814936623</td>\n",
       "      <td>...</td>\n",
       "      <td>-0.0331304236986033</td>\n",
       "      <td>-0.0340376613356785</td>\n",
       "      <td>-0.23182695053692</td>\n",
       "      <td>-0.0165738550449223</td>\n",
       "      <td>-0.275173788641312</td>\n",
       "      <td>-0.343293159909132</td>\n",
       "      <td>-0.0240280218289566</td>\n",
       "      <td>-0.503692032209349</td>\n",
       "      <td>-0.0277583111202987</td>\n",
       "      <td>-0.365536464552178</td>\n",
       "    </tr>\n",
       "  </tbody>\n",
       "</table>\n",
       "<p>5 rows × 38 columns</p>\n",
       "</div>"
      ],
      "text/plain": [
       "   0                                                  1       2   \\\n",
       "0  wk                                             acc_id  cnt_dt   \n",
       "1   7  3dc6f2875dc6e6f35b9e2bdb25b391a8003386ff23becd...       4   \n",
       "2   8  3dc6f2875dc6e6f35b9e2bdb25b391a8003386ff23becd...       5   \n",
       "3   3  b8856358ff62e596fa07e3e40b8e7fd4b7729263c72b44...       2   \n",
       "4   4  b8856358ff62e596fa07e3e40b8e7fd4b7729263c72b44...       2   \n",
       "\n",
       "                   3                   4                   5   \\\n",
       "0           play_time             npc_exp         npc_hongmun   \n",
       "1    2.08881416107027     4.4050571352657    -0.2454767368248   \n",
       "2    2.67346049372266    4.76017781944869  -0.222526822840016   \n",
       "3  -0.649521652982493  -0.231020534896592  -0.290803194162271   \n",
       "4   -0.65823531742848  -0.231874043837118  -0.290803194162271   \n",
       "\n",
       "                   6                   7                   8   \\\n",
       "0           quest_exp       quest_hongmun        item_hongmun   \n",
       "1    4.45405933933072     3.0097968979651  -0.306353601768793   \n",
       "2    6.10747941074093    4.75852847138303  -0.306353601768793   \n",
       "3  -0.245977789538834  -0.487666248870767  -0.306353601768793   \n",
       "4  -0.250423355452758  -0.487666248870767  -0.306353601768793   \n",
       "\n",
       "                   9          ...                           28  \\\n",
       "0    game_combat_time         ...                cnt_clear_bam   \n",
       "1    1.18401086299851         ...          -0.0331304236986033   \n",
       "2    1.70953391447875         ...          -0.0331304236986033   \n",
       "3  -0.566706303287821         ...          -0.0331304236986033   \n",
       "4  -0.569841814936623         ...          -0.0331304236986033   \n",
       "\n",
       "                    29                 30                   31  \\\n",
       "0          normal_chat       whisper_chat        district_chat   \n",
       "1  -0.0340376613356785  -0.23182695053692  -0.0165738550449223   \n",
       "2  -0.0340376613356785  -0.23182695053692  -0.0165738550449223   \n",
       "3  -0.0340376613356785  -0.23182695053692  -0.0165738550449223   \n",
       "4  -0.0340376613356785  -0.23182695053692  -0.0165738550449223   \n",
       "\n",
       "                   32                  33                   34  \\\n",
       "0          party_chat          guild_chat         faction_chat   \n",
       "1  -0.275173788641312  -0.343293159909132  -0.0240280218289566   \n",
       "2  -0.275173788641312  -0.343293159909132  -0.0240280218289566   \n",
       "3  -0.275173788641312  -0.343293159909132  -0.0240280218289566   \n",
       "4  -0.275173788641312  -0.343293159909132  -0.0240280218289566   \n",
       "\n",
       "                   35                   36                  37  \n",
       "0    cnt_use_buffitem        gathering_cnt          making_cnt  \n",
       "1    3.46693878868001  -0.0277583111202987  -0.365536464552178  \n",
       "2    5.07035860175402  -0.0277583111202987  -0.365536464552178  \n",
       "3  -0.498275073381396  -0.0277583111202987  -0.365536464552178  \n",
       "4  -0.503692032209349  -0.0277583111202987  -0.365536464552178  \n",
       "\n",
       "[5 rows x 38 columns]"
      ]
     },
     "execution_count": 4,
     "metadata": {},
     "output_type": "execute_result"
    }
   ],
   "source": [
    "pd_act = pd.DataFrame(act.collect())\n",
    "pd_act.head()"
   ]
  },
  {
   "cell_type": "code",
   "execution_count": 5,
   "metadata": {},
   "outputs": [
    {
     "data": {
      "text/html": [
       "<div>\n",
       "<style scoped>\n",
       "    .dataframe tbody tr th:only-of-type {\n",
       "        vertical-align: middle;\n",
       "    }\n",
       "\n",
       "    .dataframe tbody tr th {\n",
       "        vertical-align: top;\n",
       "    }\n",
       "\n",
       "    .dataframe thead th {\n",
       "        text-align: right;\n",
       "    }\n",
       "</style>\n",
       "<table border=\"1\" class=\"dataframe\">\n",
       "  <thead>\n",
       "    <tr style=\"text-align: right;\">\n",
       "      <th></th>\n",
       "      <th>0</th>\n",
       "      <th>1</th>\n",
       "    </tr>\n",
       "  </thead>\n",
       "  <tbody>\n",
       "    <tr>\n",
       "      <th>0</th>\n",
       "      <td>acc_id</td>\n",
       "      <td>label</td>\n",
       "    </tr>\n",
       "    <tr>\n",
       "      <th>1</th>\n",
       "      <td>b8fbf3f6a70e3f36843bffc70c18ff51a0d755a87616ec...</td>\n",
       "      <td>week</td>\n",
       "    </tr>\n",
       "    <tr>\n",
       "      <th>2</th>\n",
       "      <td>ed500c4957956b3e99dc3985666850b582f812405eefb6...</td>\n",
       "      <td>week</td>\n",
       "    </tr>\n",
       "    <tr>\n",
       "      <th>3</th>\n",
       "      <td>acc6afa23a6bf15e18151e4794c7789225ef9d682f473c...</td>\n",
       "      <td>week</td>\n",
       "    </tr>\n",
       "    <tr>\n",
       "      <th>4</th>\n",
       "      <td>34095a3c9a2937ced3ea3fd75e22ce177dc5879d2a53f7...</td>\n",
       "      <td>week</td>\n",
       "    </tr>\n",
       "  </tbody>\n",
       "</table>\n",
       "</div>"
      ],
      "text/plain": [
       "                                                   0      1\n",
       "0                                             acc_id  label\n",
       "1  b8fbf3f6a70e3f36843bffc70c18ff51a0d755a87616ec...   week\n",
       "2  ed500c4957956b3e99dc3985666850b582f812405eefb6...   week\n",
       "3  acc6afa23a6bf15e18151e4794c7789225ef9d682f473c...   week\n",
       "4  34095a3c9a2937ced3ea3fd75e22ce177dc5879d2a53f7...   week"
      ]
     },
     "execution_count": 5,
     "metadata": {},
     "output_type": "execute_result"
    }
   ],
   "source": [
    "pd_label = pd.DataFrame(label.collect())\n",
    "pd_label.head()"
   ]
  },
  {
   "cell_type": "code",
   "execution_count": 6,
   "metadata": {},
   "outputs": [],
   "source": [
    "# column 정보 제거\n",
    "act = act.filter(lambda line : line[0] != \"wk\")\n",
    "label = label.filter(lambda line: line[0] != \"acc_id\")"
   ]
  },
  {
   "cell_type": "markdown",
   "metadata": {},
   "source": [
    "### 각 주차에 한번이라도 활동한 사람 수\n",
    "\n",
    "wk : 활동 주 (1~8)"
   ]
  },
  {
   "cell_type": "code",
   "execution_count": 7,
   "metadata": {},
   "outputs": [
    {
     "data": {
      "text/plain": [
       "[('8', 100000),\n",
       " ('7', 62838),\n",
       " ('5', 52585),\n",
       " ('4', 51430),\n",
       " ('6', 50548),\n",
       " ('3', 46122),\n",
       " ('2', 43093),\n",
       " ('1', 33707)]"
      ]
     },
     "execution_count": 7,
     "metadata": {},
     "output_type": "execute_result"
    }
   ],
   "source": [
    "result1 = act.groupBy(lambda x : x[0])\\\n",
    "    .mapValues(lambda x : len(x))\\\n",
    "    .sortBy(lambda x: x[1], False)\n",
    "result1.collect()"
   ]
  },
  {
   "cell_type": "markdown",
   "metadata": {},
   "source": [
    "시간이 지남에 따라 8주차에 가까워 질수록 활동 인원이 증가한 것을 확인하였다"
   ]
  },
  {
   "cell_type": "markdown",
   "metadata": {},
   "source": [
    "### 각 주차별 모든 사람의 접속일수 합\n",
    "\n",
    "cnt_dt : 해당 주에 한번 이상 접속한 일수"
   ]
  },
  {
   "cell_type": "code",
   "execution_count": 8,
   "metadata": {},
   "outputs": [
    {
     "data": {
      "text/plain": [
       "[(7, 4),\n",
       " (8, 5),\n",
       " (3, 2),\n",
       " (4, 2),\n",
       " (5, 4),\n",
       " (7, 2),\n",
       " (8, 5),\n",
       " (8, 6),\n",
       " (8, 3),\n",
       " (1, 6)]"
      ]
     },
     "execution_count": 8,
     "metadata": {},
     "output_type": "execute_result"
    }
   ],
   "source": [
    "result2 = act.map(lambda x : (int(x[0]), int(x[2])))\n",
    "result2.take(10)"
   ]
  },
  {
   "cell_type": "markdown",
   "metadata": {},
   "source": [
    "(주차, 접속일수) pair들을 만들어서 각 주차별로 총 접속일수를 reduceByKey 메소드를 이용하여 더해보았다."
   ]
  },
  {
   "cell_type": "code",
   "execution_count": 9,
   "metadata": {},
   "outputs": [
    {
     "data": {
      "text/plain": [
       "[(8, 405036),\n",
       " (7, 282452),\n",
       " (5, 241248),\n",
       " (4, 235921),\n",
       " (3, 221524),\n",
       " (6, 214319),\n",
       " (2, 181008),\n",
       " (1, 165063)]"
      ]
     },
     "execution_count": 9,
     "metadata": {},
     "output_type": "execute_result"
    }
   ],
   "source": [
    "result2 = act.map(lambda x : (int(x[0]), int(x[2])))\\\n",
    "    .reduceByKey(lambda a, b : a+b)\\\n",
    "    .sortBy(lambda x : x[1], False)\n",
    "result2.collect()"
   ]
  },
  {
   "cell_type": "markdown",
   "metadata": {},
   "source": [
    "6주차의 경우 접속빈도는 조금 낮은것을 볼 수 있었다"
   ]
  },
  {
   "cell_type": "markdown",
   "metadata": {},
   "source": [
    "---\n",
    "\n",
    "## SparkSQL"
   ]
  },
  {
   "cell_type": "markdown",
   "metadata": {},
   "source": [
    "7개 이상 메소드"
   ]
  },
  {
   "cell_type": "code",
   "execution_count": 10,
   "metadata": {},
   "outputs": [],
   "source": [
    "source = \"file:///home/ubuntu/18-2E/sparkProject/train_activity.csv\"\n",
    "df = spark.read.csv(source, header = \"true\")"
   ]
  },
  {
   "cell_type": "markdown",
   "metadata": {},
   "source": [
    "header 옵션을 true로 해주어 맨 윗 헤더값들을 column으로 넣어주었다"
   ]
  },
  {
   "cell_type": "code",
   "execution_count": 11,
   "metadata": {},
   "outputs": [
    {
     "name": "stdout",
     "output_type": "stream",
     "text": [
      "+---+--------------------+------+------------------+------------------+------------------+------------------+------------------+------------------+------------------+-------------------+-------------------+-------------------+------------------+------------------+---------------------+----------------------+------------------------+-----------------------+------------------+--------------------+-------------------+---------------------+----------------------+------------------------+-----------------------+------------------+--------------------+-------------------+-------------------+-----------------+-------------------+------------------+------------------+-------------------+------------------+-------------------+------------------+\n",
      "| wk|              acc_id|cnt_dt|         play_time|           npc_exp|       npc_hongmun|         quest_exp|     quest_hongmun|      item_hongmun|  game_combat_time|          get_money|           duel_cnt|           duel_win|   partybattle_cnt|   partybattle_win|cnt_enter_inzone_solo|cnt_enter_inzone_light|cnt_enter_inzone_skilled|cnt_enter_inzone_normal|    cnt_enter_raid|cnt_enter_raid_light|      cnt_enter_bam|cnt_clear_inzone_solo|cnt_clear_inzone_light|cnt_clear_inzone_skilled|cnt_clear_inzone_normal|    cnt_clear_raid|cnt_clear_raid_light|      cnt_clear_bam|        normal_chat|     whisper_chat|      district_chat|        party_chat|        guild_chat|       faction_chat|  cnt_use_buffitem|      gathering_cnt|        making_cnt|\n",
      "+---+--------------------+------+------------------+------------------+------------------+------------------+------------------+------------------+------------------+-------------------+-------------------+-------------------+------------------+------------------+---------------------+----------------------+------------------------+-----------------------+------------------+--------------------+-------------------+---------------------+----------------------+------------------------+-----------------------+------------------+--------------------+-------------------+-------------------+-----------------+-------------------+------------------+------------------+-------------------+------------------+-------------------+------------------+\n",
      "|  7|3dc6f2875dc6e6f35...|     4|  2.08881416107027|   4.4050571352657|  -0.2454767368248|  4.45405933933072|   3.0097968979651|-0.306353601768793|  1.18401086299851| -0.023442516280297|-0.0361680430708607|-0.0413257061219071|-0.167472539558229|-0.159872456051349|   -0.308749014788707|    -0.424591467385917|      -0.190671429600539|     -0.325565585196072|-0.368129648987356|  -0.402052757250742|-0.0476429005602935|   -0.306502306156819|    -0.430263339890395|      -0.188787865618004|     -0.309353682254944|-0.367616127806015|  -0.401157917598054|-0.0331304236986033|-0.0340376613356785|-0.23182695053692|-0.0165738550449223|-0.275173788641312|-0.343293159909132|-0.0240280218289566|  3.46693878868001|-0.0277583111202987|-0.365536464552178|\n",
      "|  8|3dc6f2875dc6e6f35...|     5|  2.67346049372266|  4.76017781944869|-0.222526822840016|  6.10747941074093|  4.75852847138303|-0.306353601768793|  1.70953391447875|-0.0234213222461859|-0.0361680430708607|-0.0413257061219071|-0.167472539558229|-0.159872456051349|   -0.308749014788707|    -0.424591467385917|      -0.190671429600539|     -0.259178920192943|-0.368129648987356|  -0.402052757250742|-0.0476429005602935|   -0.306502306156819|    -0.430263339890395|      -0.188787865618004|     -0.232756471733214|-0.367616127806015|  -0.401157917598054|-0.0331304236986033|-0.0340376613356785|-0.23182695053692|-0.0165738550449223|-0.275173788641312|-0.343293159909132|-0.0240280218289566|  5.07035860175402|-0.0277583111202987|-0.365536464552178|\n",
      "|  3|b8856358ff62e596f...|     2|-0.649521652982493|-0.231020534896592|-0.290803194162271|-0.245977789538834|-0.487666248870767|-0.306353601768793|-0.566706303287821| -0.023542864552728|-0.0361680430708607|-0.0413257061219071|-0.167472539558229|-0.159872456051349|   -0.308749014788707|    -0.424591467385917|      -0.190671429600539|     -0.458338915202331|-0.368129648987356|  -0.402052757250742|-0.0476429005602935|   -0.306502306156819|    -0.430263339890395|      -0.188787865618004|     -0.462548103298404|-0.367616127806015|  -0.401157917598054|-0.0331304236986033|-0.0340376613356785|-0.23182695053692|-0.0165738550449223|-0.275173788641312|-0.343293159909132|-0.0240280218289566|-0.498275073381396|-0.0277583111202987|-0.365536464552178|\n",
      "+---+--------------------+------+------------------+------------------+------------------+------------------+------------------+------------------+------------------+-------------------+-------------------+-------------------+------------------+------------------+---------------------+----------------------+------------------------+-----------------------+------------------+--------------------+-------------------+---------------------+----------------------+------------------------+-----------------------+------------------+--------------------+-------------------+-------------------+-----------------+-------------------+------------------+------------------+-------------------+------------------+-------------------+------------------+\n",
      "only showing top 3 rows\n",
      "\n"
     ]
    }
   ],
   "source": [
    "df.show(3)"
   ]
  },
  {
   "cell_type": "code",
   "execution_count": 12,
   "metadata": {
    "scrolled": true
   },
   "outputs": [
    {
     "data": {
      "text/plain": [
       "Row(wk='7', acc_id='3dc6f2875dc6e6f35b9e2bdb25b391a8003386ff23becd109415062b2bd58709', cnt_dt='4', play_time='2.08881416107027', npc_exp='4.4050571352657', npc_hongmun='-0.2454767368248', quest_exp='4.45405933933072', quest_hongmun='3.0097968979651', item_hongmun='-0.306353601768793', game_combat_time='1.18401086299851', get_money='-0.023442516280297', duel_cnt='-0.0361680430708607', duel_win='-0.0413257061219071', partybattle_cnt='-0.167472539558229', partybattle_win='-0.159872456051349', cnt_enter_inzone_solo='-0.308749014788707', cnt_enter_inzone_light='-0.424591467385917', cnt_enter_inzone_skilled='-0.190671429600539', cnt_enter_inzone_normal='-0.325565585196072', cnt_enter_raid='-0.368129648987356', cnt_enter_raid_light='-0.402052757250742', cnt_enter_bam='-0.0476429005602935', cnt_clear_inzone_solo='-0.306502306156819', cnt_clear_inzone_light='-0.430263339890395', cnt_clear_inzone_skilled='-0.188787865618004', cnt_clear_inzone_normal='-0.309353682254944', cnt_clear_raid='-0.367616127806015', cnt_clear_raid_light='-0.401157917598054', cnt_clear_bam='-0.0331304236986033', normal_chat='-0.0340376613356785', whisper_chat='-0.23182695053692', district_chat='-0.0165738550449223', party_chat='-0.275173788641312', guild_chat='-0.343293159909132', faction_chat='-0.0240280218289566', cnt_use_buffitem='3.46693878868001', gathering_cnt='-0.0277583111202987', making_cnt='-0.365536464552178')"
      ]
     },
     "execution_count": 12,
     "metadata": {},
     "output_type": "execute_result"
    }
   ],
   "source": [
    "df.head()"
   ]
  },
  {
   "cell_type": "code",
   "execution_count": 13,
   "metadata": {},
   "outputs": [
    {
     "data": {
      "text/plain": [
       "[Row(wk='7', acc_id='3dc6f2875dc6e6f35b9e2bdb25b391a8003386ff23becd109415062b2bd58709', cnt_dt='4', play_time='2.08881416107027', npc_exp='4.4050571352657', npc_hongmun='-0.2454767368248', quest_exp='4.45405933933072', quest_hongmun='3.0097968979651', item_hongmun='-0.306353601768793', game_combat_time='1.18401086299851', get_money='-0.023442516280297', duel_cnt='-0.0361680430708607', duel_win='-0.0413257061219071', partybattle_cnt='-0.167472539558229', partybattle_win='-0.159872456051349', cnt_enter_inzone_solo='-0.308749014788707', cnt_enter_inzone_light='-0.424591467385917', cnt_enter_inzone_skilled='-0.190671429600539', cnt_enter_inzone_normal='-0.325565585196072', cnt_enter_raid='-0.368129648987356', cnt_enter_raid_light='-0.402052757250742', cnt_enter_bam='-0.0476429005602935', cnt_clear_inzone_solo='-0.306502306156819', cnt_clear_inzone_light='-0.430263339890395', cnt_clear_inzone_skilled='-0.188787865618004', cnt_clear_inzone_normal='-0.309353682254944', cnt_clear_raid='-0.367616127806015', cnt_clear_raid_light='-0.401157917598054', cnt_clear_bam='-0.0331304236986033', normal_chat='-0.0340376613356785', whisper_chat='-0.23182695053692', district_chat='-0.0165738550449223', party_chat='-0.275173788641312', guild_chat='-0.343293159909132', faction_chat='-0.0240280218289566', cnt_use_buffitem='3.46693878868001', gathering_cnt='-0.0277583111202987', making_cnt='-0.365536464552178'),\n",
       " Row(wk='8', acc_id='3dc6f2875dc6e6f35b9e2bdb25b391a8003386ff23becd109415062b2bd58709', cnt_dt='5', play_time='2.67346049372266', npc_exp='4.76017781944869', npc_hongmun='-0.222526822840016', quest_exp='6.10747941074093', quest_hongmun='4.75852847138303', item_hongmun='-0.306353601768793', game_combat_time='1.70953391447875', get_money='-0.0234213222461859', duel_cnt='-0.0361680430708607', duel_win='-0.0413257061219071', partybattle_cnt='-0.167472539558229', partybattle_win='-0.159872456051349', cnt_enter_inzone_solo='-0.308749014788707', cnt_enter_inzone_light='-0.424591467385917', cnt_enter_inzone_skilled='-0.190671429600539', cnt_enter_inzone_normal='-0.259178920192943', cnt_enter_raid='-0.368129648987356', cnt_enter_raid_light='-0.402052757250742', cnt_enter_bam='-0.0476429005602935', cnt_clear_inzone_solo='-0.306502306156819', cnt_clear_inzone_light='-0.430263339890395', cnt_clear_inzone_skilled='-0.188787865618004', cnt_clear_inzone_normal='-0.232756471733214', cnt_clear_raid='-0.367616127806015', cnt_clear_raid_light='-0.401157917598054', cnt_clear_bam='-0.0331304236986033', normal_chat='-0.0340376613356785', whisper_chat='-0.23182695053692', district_chat='-0.0165738550449223', party_chat='-0.275173788641312', guild_chat='-0.343293159909132', faction_chat='-0.0240280218289566', cnt_use_buffitem='5.07035860175402', gathering_cnt='-0.0277583111202987', making_cnt='-0.365536464552178')]"
      ]
     },
     "execution_count": 13,
     "metadata": {},
     "output_type": "execute_result"
    }
   ],
   "source": [
    "df.take(2)"
   ]
  },
  {
   "cell_type": "code",
   "execution_count": 14,
   "metadata": {
    "scrolled": true
   },
   "outputs": [
    {
     "name": "stdout",
     "output_type": "stream",
     "text": [
      "+-------+-----------------+\n",
      "|summary|               wk|\n",
      "+-------+-----------------+\n",
      "|  count|           440323|\n",
      "|   mean|5.155438166981965|\n",
      "| stddev| 2.31232206450818|\n",
      "|    min|                1|\n",
      "|    max|                8|\n",
      "+-------+-----------------+\n",
      "\n"
     ]
    }
   ],
   "source": [
    "df.describe(\"wk\").show()"
   ]
  },
  {
   "cell_type": "code",
   "execution_count": 15,
   "metadata": {
    "scrolled": true
   },
   "outputs": [
    {
     "name": "stdout",
     "output_type": "stream",
     "text": [
      "root\n",
      " |-- wk: string (nullable = true)\n",
      " |-- acc_id: string (nullable = true)\n",
      " |-- cnt_dt: string (nullable = true)\n",
      " |-- play_time: string (nullable = true)\n",
      " |-- npc_exp: string (nullable = true)\n",
      " |-- npc_hongmun: string (nullable = true)\n",
      " |-- quest_exp: string (nullable = true)\n",
      " |-- quest_hongmun: string (nullable = true)\n",
      " |-- item_hongmun: string (nullable = true)\n",
      " |-- game_combat_time: string (nullable = true)\n",
      " |-- get_money: string (nullable = true)\n",
      " |-- duel_cnt: string (nullable = true)\n",
      " |-- duel_win: string (nullable = true)\n",
      " |-- partybattle_cnt: string (nullable = true)\n",
      " |-- partybattle_win: string (nullable = true)\n",
      " |-- cnt_enter_inzone_solo: string (nullable = true)\n",
      " |-- cnt_enter_inzone_light: string (nullable = true)\n",
      " |-- cnt_enter_inzone_skilled: string (nullable = true)\n",
      " |-- cnt_enter_inzone_normal: string (nullable = true)\n",
      " |-- cnt_enter_raid: string (nullable = true)\n",
      " |-- cnt_enter_raid_light: string (nullable = true)\n",
      " |-- cnt_enter_bam: string (nullable = true)\n",
      " |-- cnt_clear_inzone_solo: string (nullable = true)\n",
      " |-- cnt_clear_inzone_light: string (nullable = true)\n",
      " |-- cnt_clear_inzone_skilled: string (nullable = true)\n",
      " |-- cnt_clear_inzone_normal: string (nullable = true)\n",
      " |-- cnt_clear_raid: string (nullable = true)\n",
      " |-- cnt_clear_raid_light: string (nullable = true)\n",
      " |-- cnt_clear_bam: string (nullable = true)\n",
      " |-- normal_chat: string (nullable = true)\n",
      " |-- whisper_chat: string (nullable = true)\n",
      " |-- district_chat: string (nullable = true)\n",
      " |-- party_chat: string (nullable = true)\n",
      " |-- guild_chat: string (nullable = true)\n",
      " |-- faction_chat: string (nullable = true)\n",
      " |-- cnt_use_buffitem: string (nullable = true)\n",
      " |-- gathering_cnt: string (nullable = true)\n",
      " |-- making_cnt: string (nullable = true)\n",
      "\n"
     ]
    }
   ],
   "source": [
    "df.printSchema()"
   ]
  },
  {
   "cell_type": "markdown",
   "metadata": {},
   "source": [
    "#### sql문을 직접 이용한 연산"
   ]
  },
  {
   "cell_type": "code",
   "execution_count": 16,
   "metadata": {},
   "outputs": [
    {
     "name": "stdout",
     "output_type": "stream",
     "text": [
      "+---+--------------------+------+\n",
      "| wk|              acc_id|cnt_dt|\n",
      "+---+--------------------+------+\n",
      "|  7|3dc6f2875dc6e6f35...|     4|\n",
      "|  8|3dc6f2875dc6e6f35...|     5|\n",
      "|  7|b8856358ff62e596f...|     2|\n",
      "|  8|b8856358ff62e596f...|     5|\n",
      "|  8|fa883ca7505082114...|     6|\n",
      "+---+--------------------+------+\n",
      "only showing top 5 rows\n",
      "\n"
     ]
    }
   ],
   "source": [
    "df.createOrReplaceTempView(\"act\")\n",
    "spark.sql(\"SELECT wk, acc_id, cnt_dt FROM act WHERE wk > 6\").show(5)"
   ]
  },
  {
   "cell_type": "markdown",
   "metadata": {},
   "source": [
    "주차가 6보다 큰 경우, wk, acc_id, cnt_dt 출력"
   ]
  },
  {
   "cell_type": "code",
   "execution_count": 17,
   "metadata": {},
   "outputs": [
    {
     "name": "stdout",
     "output_type": "stream",
     "text": [
      "+--------------------+---+------+---------+\n",
      "|              acc_id| wk|cnt_dt|heavyUser|\n",
      "+--------------------+---+------+---------+\n",
      "|3dc6f2875dc6e6f35...|  7|     4|    false|\n",
      "|3dc6f2875dc6e6f35...|  8|     5|     true|\n",
      "|b8856358ff62e596f...|  3|     2|    false|\n",
      "|b8856358ff62e596f...|  4|     2|    false|\n",
      "|b8856358ff62e596f...|  5|     4|    false|\n",
      "|b8856358ff62e596f...|  7|     2|    false|\n",
      "|b8856358ff62e596f...|  8|     5|     true|\n",
      "|fa883ca7505082114...|  8|     6|     true|\n",
      "|d094b6b1c5d0a147e...|  8|     3|    false|\n",
      "|38e7088d64485baba...|  1|     6|     true|\n",
      "+--------------------+---+------+---------+\n",
      "only showing top 10 rows\n",
      "\n"
     ]
    }
   ],
   "source": [
    "heavy = spark.sparkContext.broadcast([5,6,7])\n",
    "df.select(df['acc_id'],df['wk'],df['cnt_dt'], df['cnt_dt'].isin(heavy.value).alias(\"heavyUser\")).show(10)"
   ]
  },
  {
   "cell_type": "markdown",
   "metadata": {},
   "source": [
    "각 사람이 그 주차에 5번 이상 게임에서 활동했다면, heavyUser!"
   ]
  },
  {
   "cell_type": "code",
   "execution_count": 18,
   "metadata": {},
   "outputs": [
    {
     "name": "stdout",
     "output_type": "stream",
     "text": [
      "+--------------------+---+------+--------+\n",
      "|              acc_id| wk|cnt_dt|userType|\n",
      "+--------------------+---+------+--------+\n",
      "|3dc6f2875dc6e6f35...|  7|     4|   light|\n",
      "|3dc6f2875dc6e6f35...|  8|     5|   heavy|\n",
      "|b8856358ff62e596f...|  3|     2|   light|\n",
      "|b8856358ff62e596f...|  4|     2|   light|\n",
      "|b8856358ff62e596f...|  5|     4|   light|\n",
      "|b8856358ff62e596f...|  7|     2|   light|\n",
      "|b8856358ff62e596f...|  8|     5|   heavy|\n",
      "|fa883ca7505082114...|  8|     6|   heavy|\n",
      "|d094b6b1c5d0a147e...|  8|     3|   light|\n",
      "|38e7088d64485baba...|  1|     6|   heavy|\n",
      "+--------------------+---+------+--------+\n",
      "only showing top 10 rows\n",
      "\n"
     ]
    }
   ],
   "source": [
    "from pyspark.sql import functions\n",
    "\n",
    "col = functions.when(df.cnt_dt >= 5 , \"heavy\").otherwise(\"light\").alias(\"userType\")\n",
    "df.select(df.acc_id, df.wk, df.cnt_dt, col).show(10)"
   ]
  },
  {
   "cell_type": "code",
   "execution_count": 19,
   "metadata": {},
   "outputs": [
    {
     "name": "stdout",
     "output_type": "stream",
     "text": [
      "+-----------------+\n",
      "|      avg(cnt_dt)|\n",
      "+-----------------+\n",
      "|4.420779745777532|\n",
      "+-----------------+\n",
      "\n"
     ]
    }
   ],
   "source": [
    "df.select(functions.mean(df['cnt_dt'])).show()"
   ]
  },
  {
   "cell_type": "markdown",
   "metadata": {},
   "source": [
    "평균 일주일 활동 일 수 "
   ]
  },
  {
   "cell_type": "code",
   "execution_count": 20,
   "metadata": {},
   "outputs": [
    {
     "name": "stdout",
     "output_type": "stream",
     "text": [
      "+--------------------+\n",
      "|     collect_set(wk)|\n",
      "+--------------------+\n",
      "|[3, 1, 2, 5, 8, 4...|\n",
      "+--------------------+\n",
      "\n"
     ]
    }
   ],
   "source": [
    "df.select(functions.collect_set('wk')).show()"
   ]
  },
  {
   "cell_type": "markdown",
   "metadata": {},
   "source": [
    "주차는 8주차까지~"
   ]
  },
  {
   "cell_type": "code",
   "execution_count": 21,
   "metadata": {},
   "outputs": [
    {
     "name": "stdout",
     "output_type": "stream",
     "text": [
      "+------------------+\n",
      "|count(DISTINCT wk)|\n",
      "+------------------+\n",
      "|                 8|\n",
      "+------------------+\n",
      "\n"
     ]
    }
   ],
   "source": [
    "df.select(functions.countDistinct('wk')).show()"
   ]
  },
  {
   "cell_type": "markdown",
   "metadata": {},
   "source": [
    "주차는 8주차까지~2"
   ]
  },
  {
   "cell_type": "markdown",
   "metadata": {},
   "source": [
    "---\n",
    "\n",
    "## SparkML"
   ]
  },
  {
   "cell_type": "markdown",
   "metadata": {},
   "source": [
    "### Decision Tree"
   ]
  },
  {
   "cell_type": "code",
   "execution_count": 35,
   "metadata": {},
   "outputs": [],
   "source": [
    "from pyspark.ml.classification import DecisionTreeClassifier\n",
    "from pyspark.ml.evaluation import BinaryClassificationEvaluator\n",
    "from pyspark.ml.feature import StringIndexer\n",
    "from pyspark.ml.feature import VectorAssembler\n",
    "from pyspark.ml.pipeline import Pipeline\n",
    "from pyspark.sql import SparkSession\n",
    "from pyspark.sql import functions"
   ]
  },
  {
   "cell_type": "code",
   "execution_count": 36,
   "metadata": {},
   "outputs": [],
   "source": [
    "# 1. 스파크세션 생성\n",
    "spark = SparkSession \\\n",
    "    .builder \\\n",
    "    .appName(\"decision_tree_userType\") \\\n",
    "    .master(\"local[*]\") \\\n",
    "    .getOrCreate()"
   ]
  },
  {
   "cell_type": "code",
   "execution_count": 37,
   "metadata": {},
   "outputs": [],
   "source": [
    "def isHeavyUser(cnt_dt):\n",
    "    if cnt_dt >= 5:\n",
    "        return 1.0\n",
    "    else:\n",
    "        return 0.0"
   ]
  },
  {
   "cell_type": "code",
   "execution_count": 38,
   "metadata": {},
   "outputs": [],
   "source": [
    "# Label(heavyUser:1.0, lightUser:0.0)\n",
    "isHU = functions.udf(lambda cnt_dt: isHeavyUser(cnt_dt))"
   ]
  },
  {
   "cell_type": "code",
   "execution_count": 39,
   "metadata": {},
   "outputs": [
    {
     "name": "stdout",
     "output_type": "stream",
     "text": [
      "root\n",
      " |-- wk: integer (nullable = true)\n",
      " |-- acc_id: string (nullable = true)\n",
      " |-- cnt_dt: integer (nullable = true)\n",
      " |-- play_time: double (nullable = true)\n",
      " |-- npc_exp: double (nullable = true)\n",
      " |-- npc_hongmun: double (nullable = true)\n",
      " |-- quest_exp: double (nullable = true)\n",
      " |-- quest_hongmun: double (nullable = true)\n",
      " |-- item_hongmun: double (nullable = true)\n",
      " |-- game_combat_time: double (nullable = true)\n",
      " |-- get_money: double (nullable = true)\n",
      " |-- duel_cnt: double (nullable = true)\n",
      " |-- duel_win: double (nullable = true)\n",
      " |-- partybattle_cnt: double (nullable = true)\n",
      " |-- partybattle_win: double (nullable = true)\n",
      " |-- cnt_enter_inzone_solo: double (nullable = true)\n",
      " |-- cnt_enter_inzone_light: double (nullable = true)\n",
      " |-- cnt_enter_inzone_skilled: double (nullable = true)\n",
      " |-- cnt_enter_inzone_normal: double (nullable = true)\n",
      " |-- cnt_enter_raid: double (nullable = true)\n",
      " |-- cnt_enter_raid_light: double (nullable = true)\n",
      " |-- cnt_enter_bam: double (nullable = true)\n",
      " |-- cnt_clear_inzone_solo: double (nullable = true)\n",
      " |-- cnt_clear_inzone_light: double (nullable = true)\n",
      " |-- cnt_clear_inzone_skilled: double (nullable = true)\n",
      " |-- cnt_clear_inzone_normal: double (nullable = true)\n",
      " |-- cnt_clear_raid: double (nullable = true)\n",
      " |-- cnt_clear_raid_light: double (nullable = true)\n",
      " |-- cnt_clear_bam: double (nullable = true)\n",
      " |-- normal_chat: double (nullable = true)\n",
      " |-- whisper_chat: double (nullable = true)\n",
      " |-- district_chat: double (nullable = true)\n",
      " |-- party_chat: double (nullable = true)\n",
      " |-- guild_chat: double (nullable = true)\n",
      " |-- faction_chat: double (nullable = true)\n",
      " |-- cnt_use_buffitem: double (nullable = true)\n",
      " |-- gathering_cnt: double (nullable = true)\n",
      " |-- making_cnt: double (nullable = true)\n",
      "\n"
     ]
    }
   ],
   "source": [
    "d1 = spark.read.option(\"header\", \"true\") \\\n",
    "    .option(\"sep\", \",\").option(\"inferSchema\", True) \\\n",
    "    .option(\"mode\", \"DROPMALFORMED\") \\\n",
    "    .csv(\"file:///home/ubuntu/18-2E/sparkProject/train_activity.csv\")\n",
    "\n",
    "d2 = d1.toDF('wk', 'acc_id', 'cnt_dt', 'play_time', 'npc_exp', 'npc_hongmun',\n",
    "       'quest_exp', 'quest_hongmun', 'item_hongmun', 'game_combat_time',\n",
    "       'get_money', 'duel_cnt', 'duel_win', 'partybattle_cnt',\n",
    "       'partybattle_win', 'cnt_enter_inzone_solo', 'cnt_enter_inzone_light',\n",
    "       'cnt_enter_inzone_skilled', 'cnt_enter_inzone_normal', 'cnt_enter_raid',\n",
    "       'cnt_enter_raid_light', 'cnt_enter_bam', 'cnt_clear_inzone_solo',\n",
    "       'cnt_clear_inzone_light', 'cnt_clear_inzone_skilled',\n",
    "       'cnt_clear_inzone_normal', 'cnt_clear_raid', 'cnt_clear_raid_light',\n",
    "       'cnt_clear_bam', 'normal_chat', 'whisper_chat', 'district_chat',\n",
    "       'party_chat', 'guild_chat', 'faction_chat', 'cnt_use_buffitem',\n",
    "       'gathering_cnt', 'making_cnt')\n",
    "\n",
    "d2.printSchema()"
   ]
  },
  {
   "cell_type": "code",
   "execution_count": 40,
   "metadata": {
    "scrolled": false
   },
   "outputs": [
    {
     "name": "stdout",
     "output_type": "stream",
     "text": [
      "+----------------------------------------------------------------+------------+\n",
      "|acc_id                                                          |mean(cnt_dt)|\n",
      "+----------------------------------------------------------------+------------+\n",
      "|00446675fab526fc7b768e18ed051e3b5e341d5078fd2508c9c03f5258a2389a|3.7         |\n",
      "|00446675fab526fc7b768e18ed051e3b5e341d5078fd2508c9c03f5258a2389a|3.7         |\n",
      "|00446675fab526fc7b768e18ed051e3b5e341d5078fd2508c9c03f5258a2389a|3.7         |\n",
      "|0148a24b0c6ea3da5f03ac5f516fe030d63fb88d222f1cd417073c7bb7edd71e|1.0         |\n",
      "|02a4d8afc1c0359a3c0d28e3cd55cd8956ba02af055260a50c113b91e91e4573|2.0         |\n",
      "|02a4d8afc1c0359a3c0d28e3cd55cd8956ba02af055260a50c113b91e91e4573|2.0         |\n",
      "|033611b3c479b8d62fb04b2377378f46d8017170ef758ce3f594b04934de7f4d|6.5         |\n",
      "|033611b3c479b8d62fb04b2377378f46d8017170ef758ce3f594b04934de7f4d|6.5         |\n",
      "|033611b3c479b8d62fb04b2377378f46d8017170ef758ce3f594b04934de7f4d|6.5         |\n",
      "|033611b3c479b8d62fb04b2377378f46d8017170ef758ce3f594b04934de7f4d|6.5         |\n",
      "|033611b3c479b8d62fb04b2377378f46d8017170ef758ce3f594b04934de7f4d|6.5         |\n",
      "|033611b3c479b8d62fb04b2377378f46d8017170ef758ce3f594b04934de7f4d|6.5         |\n",
      "|033611b3c479b8d62fb04b2377378f46d8017170ef758ce3f594b04934de7f4d|6.5         |\n",
      "|033611b3c479b8d62fb04b2377378f46d8017170ef758ce3f594b04934de7f4d|6.5         |\n",
      "|03abf5d6baf7cdea7478f47a799e68818343bcae5cfd2ec950813512b01a9e01|6.3         |\n",
      "|03abf5d6baf7cdea7478f47a799e68818343bcae5cfd2ec950813512b01a9e01|6.3         |\n",
      "|03abf5d6baf7cdea7478f47a799e68818343bcae5cfd2ec950813512b01a9e01|6.3         |\n",
      "|03abf5d6baf7cdea7478f47a799e68818343bcae5cfd2ec950813512b01a9e01|6.3         |\n",
      "|03abf5d6baf7cdea7478f47a799e68818343bcae5cfd2ec950813512b01a9e01|6.3         |\n",
      "|03abf5d6baf7cdea7478f47a799e68818343bcae5cfd2ec950813512b01a9e01|6.3         |\n",
      "+----------------------------------------------------------------+------------+\n",
      "only showing top 20 rows\n",
      "\n"
     ]
    }
   ],
   "source": [
    "# 사람별 평균 cnt_dt (주당 방문 일수)\n",
    "d3 = d2.groupBy(\"acc_id\").agg(functions.round(functions.avg(\"cnt_dt\"), 1).alias(\"mean(cnt_dt)\"))\n",
    "d4 = d2.join(d3, [\"acc_id\"])\n",
    "d4.select(d4[\"acc_id\"], d4[\"mean(cnt_dt)\"]).show(20, False)"
   ]
  },
  {
   "cell_type": "markdown",
   "metadata": {},
   "source": [
    "한 사람이 여러번 나오기는 하지만 각 사람별로 평균 cnt_dt 값을 확인할 수 있다"
   ]
  },
  {
   "cell_type": "code",
   "execution_count": 41,
   "metadata": {},
   "outputs": [
    {
     "name": "stdout",
     "output_type": "stream",
     "text": [
      "+----------------------------------------------------------------+------------+-----------+\n",
      "|acc_id                                                          |mean(cnt_dt)|isHeavyUser|\n",
      "+----------------------------------------------------------------+------------+-----------+\n",
      "|00446675fab526fc7b768e18ed051e3b5e341d5078fd2508c9c03f5258a2389a|3.7         |0.0        |\n",
      "|00446675fab526fc7b768e18ed051e3b5e341d5078fd2508c9c03f5258a2389a|3.7         |0.0        |\n",
      "|00446675fab526fc7b768e18ed051e3b5e341d5078fd2508c9c03f5258a2389a|3.7         |0.0        |\n",
      "|0148a24b0c6ea3da5f03ac5f516fe030d63fb88d222f1cd417073c7bb7edd71e|1.0         |0.0        |\n",
      "|02a4d8afc1c0359a3c0d28e3cd55cd8956ba02af055260a50c113b91e91e4573|2.0         |0.0        |\n",
      "|02a4d8afc1c0359a3c0d28e3cd55cd8956ba02af055260a50c113b91e91e4573|2.0         |0.0        |\n",
      "|033611b3c479b8d62fb04b2377378f46d8017170ef758ce3f594b04934de7f4d|6.5         |1.0        |\n",
      "|033611b3c479b8d62fb04b2377378f46d8017170ef758ce3f594b04934de7f4d|6.5         |1.0        |\n",
      "|033611b3c479b8d62fb04b2377378f46d8017170ef758ce3f594b04934de7f4d|6.5         |1.0        |\n",
      "|033611b3c479b8d62fb04b2377378f46d8017170ef758ce3f594b04934de7f4d|6.5         |1.0        |\n",
      "|033611b3c479b8d62fb04b2377378f46d8017170ef758ce3f594b04934de7f4d|6.5         |1.0        |\n",
      "|033611b3c479b8d62fb04b2377378f46d8017170ef758ce3f594b04934de7f4d|6.5         |1.0        |\n",
      "|033611b3c479b8d62fb04b2377378f46d8017170ef758ce3f594b04934de7f4d|6.5         |1.0        |\n",
      "|033611b3c479b8d62fb04b2377378f46d8017170ef758ce3f594b04934de7f4d|6.5         |1.0        |\n",
      "|03abf5d6baf7cdea7478f47a799e68818343bcae5cfd2ec950813512b01a9e01|6.3         |1.0        |\n",
      "|03abf5d6baf7cdea7478f47a799e68818343bcae5cfd2ec950813512b01a9e01|6.3         |1.0        |\n",
      "|03abf5d6baf7cdea7478f47a799e68818343bcae5cfd2ec950813512b01a9e01|6.3         |1.0        |\n",
      "|03abf5d6baf7cdea7478f47a799e68818343bcae5cfd2ec950813512b01a9e01|6.3         |1.0        |\n",
      "|03abf5d6baf7cdea7478f47a799e68818343bcae5cfd2ec950813512b01a9e01|6.3         |1.0        |\n",
      "|03abf5d6baf7cdea7478f47a799e68818343bcae5cfd2ec950813512b01a9e01|6.3         |1.0        |\n",
      "+----------------------------------------------------------------+------------+-----------+\n",
      "only showing top 20 rows\n",
      "\n"
     ]
    }
   ],
   "source": [
    "# label 부여\n",
    "d5 = d4.withColumn(\"isHeavyUser\", isHU(d4[\"mean(cnt_dt)\"]).cast(\"double\"))\n",
    "d5.select(\"acc_id\", \"mean(cnt_dt)\", \"isHeavyUser\").show(20, False)"
   ]
  },
  {
   "cell_type": "markdown",
   "metadata": {},
   "source": [
    "isHeavyUser 라는 컬럼을 만들어서 1과 0으로 라벨링 해주었다"
   ]
  },
  {
   "cell_type": "code",
   "execution_count": 29,
   "metadata": {},
   "outputs": [],
   "source": [
    "dataArr = d5.randomSplit([0.7, 0.3])\n",
    "train = dataArr[0]\n",
    "test = dataArr[1]"
   ]
  },
  {
   "cell_type": "code",
   "execution_count": 42,
   "metadata": {},
   "outputs": [
    {
     "name": "stdout",
     "output_type": "stream",
     "text": [
      "+----------------------------------------+----------+-----------+\n",
      "|probability                             |prediction|isHeavyUser|\n",
      "+----------------------------------------+----------+-----------+\n",
      "|[0.032476357664646925,0.967523642335353]|1.0       |1.0        |\n",
      "|[0.14059775840597757,0.8594022415940225]|1.0       |1.0        |\n",
      "|[0.14059775840597757,0.8594022415940225]|1.0       |1.0        |\n",
      "+----------------------------------------+----------+-----------+\n",
      "only showing top 3 rows\n",
      "\n"
     ]
    }
   ],
   "source": [
    "# HeavyUser 판단에 사용된 cnt_dt와 mean(cnt_dt) 제외\n",
    "indexer = StringIndexer(inputCol=\"acc_id\", outputCol=\"id_code\")\n",
    "assembler = VectorAssembler(inputCols=['wk', 'play_time', 'npc_exp', 'npc_hongmun',\n",
    "       'quest_exp', 'quest_hongmun', 'item_hongmun', 'game_combat_time',\n",
    "       'get_money', 'duel_cnt', 'duel_win', 'partybattle_cnt',\n",
    "       'partybattle_win', 'cnt_enter_inzone_solo', 'cnt_enter_inzone_light',\n",
    "       'cnt_enter_inzone_skilled', 'cnt_enter_inzone_normal', 'cnt_enter_raid',\n",
    "       'cnt_enter_raid_light', 'cnt_enter_bam', 'cnt_clear_inzone_solo',\n",
    "       'cnt_clear_inzone_light', 'cnt_clear_inzone_skilled',\n",
    "       'cnt_clear_inzone_normal', 'cnt_clear_raid', 'cnt_clear_raid_light',\n",
    "       'cnt_clear_bam', 'normal_chat', 'whisper_chat', 'district_chat',\n",
    "       'party_chat', 'guild_chat', 'faction_chat', 'cnt_use_buffitem',\n",
    "       'gathering_cnt', 'making_cnt'], outputCol=\"features\")\n",
    "dt = DecisionTreeClassifier(labelCol=\"isHeavyUser\", featuresCol=\"features\").setMaxBins(40)\n",
    "\n",
    "pipeline = Pipeline(stages=[indexer, assembler, dt])\n",
    "model = pipeline.fit(train)\n",
    "\n",
    "predict = model.transform(test)\n",
    "predict.select(\"probability\", \"prediction\", \"isHeavyUser\").show(3, False)"
   ]
  },
  {
   "cell_type": "code",
   "execution_count": 43,
   "metadata": {
    "scrolled": false
   },
   "outputs": [
    {
     "name": "stdout",
     "output_type": "stream",
     "text": [
      "+----------------------------------------+----------+-----------+\n",
      "|probability                             |prediction|isHeavyUser|\n",
      "+----------------------------------------+----------+-----------+\n",
      "|[0.032476357664646925,0.967523642335353]|1.0       |1.0        |\n",
      "|[0.14059775840597757,0.8594022415940225]|1.0       |1.0        |\n",
      "|[0.14059775840597757,0.8594022415940225]|1.0       |1.0        |\n",
      "+----------------------------------------+----------+-----------+\n",
      "only showing top 3 rows\n",
      "\n"
     ]
    }
   ],
   "source": [
    "predict.select(\"probability\", \"prediction\", \"isHeavyUser\").show(3, False)"
   ]
  },
  {
   "cell_type": "code",
   "execution_count": 44,
   "metadata": {},
   "outputs": [],
   "source": [
    "# areaUnderROC, areaUnderPR\n",
    "evaluator = BinaryClassificationEvaluator(labelCol=\"isHeavyUser\", metricName=\"areaUnderROC\")"
   ]
  },
  {
   "cell_type": "code",
   "execution_count": 45,
   "metadata": {},
   "outputs": [
    {
     "name": "stdout",
     "output_type": "stream",
     "text": [
      "0.7030415516310541\n",
      "Learned classification tree model:DecisionTreeClassificationModel (uid=DecisionTreeClassifier_41559485db47bbb05644) of depth 5 with 63 nodes\n",
      "  If (feature 8 <= -0.0234785876090536)\n",
      "   If (feature 28 <= -0.188697394931091)\n",
      "    If (feature 1 <= -0.6564500547355165)\n",
      "     If (feature 1 <= -0.6589326083971996)\n",
      "      If (feature 1 <= -0.6593183438267045)\n",
      "       Predict: 0.0\n",
      "      Else (feature 1 > -0.6593183438267045)\n",
      "       Predict: 0.0\n",
      "     Else (feature 1 > -0.6589326083971996)\n",
      "      If (feature 0 <= 7.5)\n",
      "       Predict: 0.0\n",
      "      Else (feature 0 > 7.5)\n",
      "       Predict: 0.0\n",
      "    Else (feature 1 > -0.6564500547355165)\n",
      "     If (feature 4 <= -0.249941107071387)\n",
      "      If (feature 1 <= -0.106589145302807)\n",
      "       Predict: 0.0\n",
      "      Else (feature 1 > -0.106589145302807)\n",
      "       Predict: 1.0\n",
      "     Else (feature 4 > -0.249941107071387)\n",
      "      If (feature 1 <= 1.78864770767749)\n",
      "       Predict: 0.0\n",
      "      Else (feature 1 > 1.78864770767749)\n",
      "       Predict: 1.0\n",
      "   Else (feature 28 > -0.188697394931091)\n",
      "    If (feature 21 <= 0.02617303383729805)\n",
      "     If (feature 1 <= -0.5895843016287095)\n",
      "      If (feature 13 <= 0.159609532531372)\n",
      "       Predict: 0.0\n",
      "      Else (feature 13 > 0.159609532531372)\n",
      "       Predict: 0.0\n",
      "     Else (feature 1 > -0.5895843016287095)\n",
      "      If (feature 30 <= -0.2600515879066055)\n",
      "       Predict: 0.0\n",
      "      Else (feature 30 > -0.2600515879066055)\n",
      "       Predict: 0.0\n",
      "    Else (feature 21 > 0.02617303383729805)\n",
      "     If (feature 6 <= -0.2388352916630665)\n",
      "      If (feature 5 <= -0.461502875426963)\n",
      "       Predict: 0.0\n",
      "      Else (feature 5 > -0.461502875426963)\n",
      "       Predict: 1.0\n",
      "     Else (feature 6 > -0.2388352916630665)\n",
      "      If (feature 28 <= -0.164051934584903)\n",
      "       Predict: 0.0\n",
      "      Else (feature 28 > -0.164051934584903)\n",
      "       Predict: 1.0\n",
      "  Else (feature 8 > -0.0234785876090536)\n",
      "   If (feature 28 <= -0.176374664757997)\n",
      "    If (feature 5 <= -0.3970556315564055)\n",
      "     If (feature 27 <= -0.03226934250689885)\n",
      "      If (feature 21 <= 0.4434862898169035)\n",
      "       Predict: 0.0\n",
      "      Else (feature 21 > 0.4434862898169035)\n",
      "       Predict: 0.0\n",
      "     Else (feature 27 > -0.03226934250689885)\n",
      "      If (feature 1 <= 0.17251021924780902)\n",
      "       Predict: 0.0\n",
      "      Else (feature 1 > 0.17251021924780902)\n",
      "       Predict: 1.0\n",
      "    Else (feature 5 > -0.3970556315564055)\n",
      "     If (feature 6 <= 0.224444189985459)\n",
      "      If (feature 20 <= -0.28525906368784804)\n",
      "       Predict: 1.0\n",
      "      Else (feature 20 > -0.28525906368784804)\n",
      "       Predict: 0.0\n",
      "     Else (feature 6 > 0.224444189985459)\n",
      "      If (feature 1 <= 0.02797812100806715)\n",
      "       Predict: 1.0\n",
      "      Else (feature 1 > 0.02797812100806715)\n",
      "       Predict: 1.0\n",
      "   Else (feature 28 > -0.176374664757997)\n",
      "    If (feature 1 <= 0.17251021924780902)\n",
      "     If (feature 1 <= -0.21333400742916098)\n",
      "      If (feature 13 <= 0.611090294362439)\n",
      "       Predict: 0.0\n",
      "      Else (feature 13 > 0.611090294362439)\n",
      "       Predict: 1.0\n",
      "     Else (feature 1 > -0.21333400742916098)\n",
      "      If (feature 6 <= 0.546454592028156)\n",
      "       Predict: 1.0\n",
      "      Else (feature 6 > 0.546454592028156)\n",
      "       Predict: 1.0\n",
      "    Else (feature 1 > 0.17251021924780902)\n",
      "     If (feature 1 <= 0.47210796014837697)\n",
      "      If (feature 5 <= -0.4417784169816825)\n",
      "       Predict: 0.0\n",
      "      Else (feature 5 > -0.4417784169816825)\n",
      "       Predict: 1.0\n",
      "     Else (feature 1 > 0.47210796014837697)\n",
      "      If (feature 28 <= 0.0207890180115064)\n",
      "       Predict: 1.0\n",
      "      Else (feature 28 > 0.0207890180115064)\n",
      "       Predict: 1.0\n",
      "\n"
     ]
    }
   ],
   "source": [
    "print(evaluator.evaluate(predict))\n",
    "\n",
    "treeModel = model.stages[2]\n",
    "print(\"Learned classification tree model:%s\" % treeModel.toDebugString)"
   ]
  },
  {
   "cell_type": "code",
   "execution_count": 46,
   "metadata": {},
   "outputs": [
    {
     "data": {
      "text/plain": [
       "<bound method SparkSession.stop of <pyspark.sql.session.SparkSession object at 0x7f579116e5c0>>"
      ]
     },
     "execution_count": 46,
     "metadata": {},
     "output_type": "execute_result"
    }
   ],
   "source": [
    "spark.stop"
   ]
  },
  {
   "cell_type": "code",
   "execution_count": null,
   "metadata": {},
   "outputs": [],
   "source": []
  }
 ],
 "metadata": {
  "kernelspec": {
   "display_name": "Python 3",
   "language": "python",
   "name": "python3"
  },
  "language_info": {
   "codemirror_mode": {
    "name": "ipython",
    "version": 3
   },
   "file_extension": ".py",
   "mimetype": "text/x-python",
   "name": "python",
   "nbconvert_exporter": "python",
   "pygments_lexer": "ipython3",
   "version": "3.6.4"
  }
 },
 "nbformat": 4,
 "nbformat_minor": 2
}
